{
  "nbformat": 4,
  "nbformat_minor": 0,
  "metadata": {
    "kernelspec": {
      "name": "python3",
      "display_name": "Python 3"
    },
    "language_info": {
      "codemirror_mode": {
        "name": "ipython",
        "version": 3
      },
      "file_extension": ".py",
      "mimetype": "text/x-python",
      "name": "python",
      "nbconvert_exporter": "python",
      "pygments_lexer": "ipython3",
      "version": "3.7.4"
    },
    "colab": {
      "name": "task3_sentiment_rnn.ipynb",
      "provenance": [],
      "collapsed_sections": []
    }
  },
  "cells": [
    {
      "cell_type": "markdown",
      "metadata": {
        "id": "qAsfzP72ngYN",
        "colab_type": "text"
      },
      "source": [
        "## Assignment 2.3: Text classification via RNN (30 points)"
      ]
    },
    {
      "cell_type": "markdown",
      "metadata": {
        "id": "2S1Yr7_LngYR",
        "colab_type": "text"
      },
      "source": [
        "In this assignment you will perform sentiment analysis of the IMDBs reviews by using RNN. An additional goal is to learn high abstactions of the **torchtext** module that consists of data processing utilities and popular datasets for natural language."
      ]
    },
    {
      "cell_type": "code",
      "metadata": {
        "id": "8UX_fe-DngYU",
        "colab_type": "code",
        "colab": {}
      },
      "source": [
        "import pandas as pd\n",
        "import numpy as np\n",
        "import torch\n",
        "\n",
        "from torchtext import datasets\n",
        "\n",
        "from torchtext.data import Field, LabelField\n",
        "from torchtext.data import BucketIterator\n",
        "\n",
        "import torch.nn as nn\n",
        "import torch.nn.functional as F\n",
        "import torch.optim as optim"
      ],
      "execution_count": 0,
      "outputs": []
    },
    {
      "cell_type": "markdown",
      "metadata": {
        "id": "7aGl0YT_ngYn",
        "colab_type": "text"
      },
      "source": [
        "### Preparing Data"
      ]
    },
    {
      "cell_type": "code",
      "metadata": {
        "id": "tfddQ4GkngYq",
        "colab_type": "code",
        "colab": {}
      },
      "source": [
        "TEXT = Field(sequential=True, lower=True)\n",
        "LABEL = LabelField()"
      ],
      "execution_count": 0,
      "outputs": []
    },
    {
      "cell_type": "code",
      "metadata": {
        "id": "FGcMXzMingY0",
        "colab_type": "code",
        "colab": {}
      },
      "source": [
        "train, tst = datasets.IMDB.splits(TEXT, LABEL)\n",
        "trn, vld = train.split()"
      ],
      "execution_count": 0,
      "outputs": []
    },
    {
      "cell_type": "code",
      "metadata": {
        "colab_type": "code",
        "outputId": "db9e85f1-d91c-4ef0-9696-2de1c32f014a",
        "id": "fXSWNh2voDmW",
        "colab": {
          "base_uri": "https://localhost:8080/",
          "height": 51
        }
      },
      "source": [
        "%%time\n",
        "TEXT.build_vocab(trn)"
      ],
      "execution_count": 20,
      "outputs": [
        {
          "output_type": "stream",
          "text": [
            "CPU times: user 1.36 s, sys: 28.8 ms, total: 1.39 s\n",
            "Wall time: 1.39 s\n"
          ],
          "name": "stdout"
        }
      ]
    },
    {
      "cell_type": "code",
      "metadata": {
        "id": "esP8InIYngZH",
        "colab_type": "code",
        "colab": {}
      },
      "source": [
        "LABEL.build_vocab(trn)"
      ],
      "execution_count": 0,
      "outputs": []
    },
    {
      "cell_type": "markdown",
      "metadata": {
        "id": "Eb4AgxGCngZQ",
        "colab_type": "text"
      },
      "source": [
        "The vocab.freqs is a collections.Counter object, so we can take a look at the most frequent words."
      ]
    },
    {
      "cell_type": "code",
      "metadata": {
        "colab_type": "code",
        "outputId": "f7fb290f-f77a-46c3-acb8-97f8130cd42b",
        "id": "0s9cjXo9oCDG",
        "colab": {
          "base_uri": "https://localhost:8080/",
          "height": 187
        }
      },
      "source": [
        "TEXT.vocab.freqs.most_common(10)"
      ],
      "execution_count": 22,
      "outputs": [
        {
          "output_type": "execute_result",
          "data": {
            "text/plain": [
              "[('the', 225730),\n",
              " ('a', 111991),\n",
              " ('and', 111420),\n",
              " ('of', 101154),\n",
              " ('to', 93965),\n",
              " ('is', 73190),\n",
              " ('in', 63482),\n",
              " ('i', 49630),\n",
              " ('this', 48954),\n",
              " ('that', 46542)]"
            ]
          },
          "metadata": {
            "tags": []
          },
          "execution_count": 22
        }
      ]
    },
    {
      "cell_type": "markdown",
      "metadata": {
        "id": "IigeadHwngZc",
        "colab_type": "text"
      },
      "source": [
        "### Creating the Iterator (2 points)"
      ]
    },
    {
      "cell_type": "markdown",
      "metadata": {
        "id": "-F1EXG2IngZe",
        "colab_type": "text"
      },
      "source": [
        "During training, we'll be using a special kind of Iterator, called the **BucketIterator**. When we pass data into a neural network, we want the data to be padded to be the same length so that we can process them in batch:\n",
        "\n",
        "e.g.\n",
        "\\[ \n",
        "\\[3, 15, 2, 7\\],\n",
        "\\[4, 1\\], \n",
        "\\[5, 5, 6, 8, 1\\] \n",
        "\\] -> \\[ \n",
        "\\[3, 15, 2, 7, **0**\\],\n",
        "\\[4, 1, **0**, **0**, **0**\\], \n",
        "\\[5, 5, 6, 8, 1\\] \n",
        "\\] \n",
        "\n",
        "If the sequences differ greatly in length, the padding will consume a lot of wasteful memory and time. The BucketIterator groups sequences of similar lengths together for each batch to minimize padding.\n",
        "\n",
        "Complete the definition of the **BucketIterator** object"
      ]
    },
    {
      "cell_type": "code",
      "metadata": {
        "id": "KRYC2h2PngZh",
        "colab_type": "code",
        "colab": {}
      },
      "source": [
        "train_iter, val_iter, test_iter = BucketIterator.splits(\n",
        "        (trn, vld, tst),\n",
        "        batch_sizes=(64, 64, 64),\n",
        "        sort=False,\n",
        "        sort_key=lambda x: len(x),\n",
        "        sort_within_batch=False,\n",
        "        device='cpu',\n",
        "        repeat=False\n",
        ")"
      ],
      "execution_count": 0,
      "outputs": []
    },
    {
      "cell_type": "markdown",
      "metadata": {
        "id": "YeypiVMangZo",
        "colab_type": "text"
      },
      "source": [
        "Let's take a look at what the output of the BucketIterator looks like. Do not be suprised **batch_first=True**"
      ]
    },
    {
      "cell_type": "code",
      "metadata": {
        "id": "cWWGKEGUngZq",
        "colab_type": "code",
        "colab": {
          "base_uri": "https://localhost:8080/",
          "height": 136
        },
        "outputId": "a419b63b-beac-4d45-9c18-9172633cdc50"
      },
      "source": [
        "batch = next(train_iter.__iter__()); batch.text"
      ],
      "execution_count": 24,
      "outputs": [
        {
          "output_type": "execute_result",
          "data": {
            "text/plain": [
              "tensor([[  10,   10,    9,  ..., 5671,    9, 1781],\n",
              "        [  24,   24,  196,  ...,  821,  100,  154],\n",
              "        [  61, 1618,  104,  ..., 2371,   37,  427],\n",
              "        ...,\n",
              "        [   1,    1,    1,  ...,    1,    1,    1],\n",
              "        [   1,    1,    1,  ...,    1,    1,    1],\n",
              "        [   1,    1,    1,  ...,    1,    1,    1]])"
            ]
          },
          "metadata": {
            "tags": []
          },
          "execution_count": 24
        }
      ]
    },
    {
      "cell_type": "markdown",
      "metadata": {
        "id": "7rvTl8cmngZ1",
        "colab_type": "text"
      },
      "source": [
        "The batch has all the fields we passed to the Dataset as attributes. The batch data can be accessed through the attribute with the same name."
      ]
    },
    {
      "cell_type": "code",
      "metadata": {
        "id": "imB69YHvngZ2",
        "colab_type": "code",
        "colab": {
          "base_uri": "https://localhost:8080/",
          "height": 34
        },
        "outputId": "15baa4a3-5dd1-472e-a159-3862f7b3a98f"
      },
      "source": [
        "batch.__dict__.keys()"
      ],
      "execution_count": 25,
      "outputs": [
        {
          "output_type": "execute_result",
          "data": {
            "text/plain": [
              "dict_keys(['batch_size', 'dataset', 'fields', 'input_fields', 'target_fields', 'text', 'label'])"
            ]
          },
          "metadata": {
            "tags": []
          },
          "execution_count": 25
        }
      ]
    },
    {
      "cell_type": "code",
      "metadata": {
        "id": "7bhCkzkMngaE",
        "colab_type": "code",
        "colab": {
          "base_uri": "https://localhost:8080/",
          "height": 34
        },
        "outputId": "dfdd3d7e-a15f-4b56-bce3-a9d2abef4482"
      },
      "source": [
        "batch.text.shape"
      ],
      "execution_count": 26,
      "outputs": [
        {
          "output_type": "execute_result",
          "data": {
            "text/plain": [
              "torch.Size([1001, 64])"
            ]
          },
          "metadata": {
            "tags": []
          },
          "execution_count": 26
        }
      ]
    },
    {
      "cell_type": "markdown",
      "metadata": {
        "id": "GTs6IqzAngaR",
        "colab_type": "text"
      },
      "source": [
        "### Define the RNN-based text classification model (10 points)"
      ]
    },
    {
      "cell_type": "markdown",
      "metadata": {
        "id": "9ZPP6n0HngaT",
        "colab_type": "text"
      },
      "source": [
        "Start simple first. Implement the model according to the shema below.  \n",
        "![alt text](https://miro.medium.com/max/1396/1*v-tLYQCsni550A-hznS0mw.jpeg)\n"
      ]
    },
    {
      "cell_type": "code",
      "metadata": {
        "id": "onKdKc2VngaV",
        "colab_type": "code",
        "colab": {}
      },
      "source": [
        "class RNNBaseline(nn.Module):\n",
        "    def __init__(self, hidden_dim, emb_dim):\n",
        "        super().__init__()\n",
        "        \n",
        "        self.hidden_dim = hidden_dim\n",
        "        self.emb_voc = len(TEXT.vocab)\n",
        "        self.num_layers = 1\n",
        "        \n",
        "        self.emb = nn.Embedding(self.emb_voc, emb_dim)\n",
        "        self.rnn = nn.GRU(emb_dim, hidden_dim, num_layers=self.num_layers)\n",
        "        self.fc = nn.Linear(hidden_dim, 2)\n",
        "            \n",
        "    def forward(self, seq):\n",
        "        seq = self.emb(seq)\n",
        "        starting_hidden = self.init_hidden(seq.shape)\n",
        "        preds, hidden = self.rnn(seq, starting_hidden)\n",
        "        preds = self.fc(hidden)\n",
        "        return preds.squeeze(), hidden\n",
        "    \n",
        "    def init_hidden(self, shape):\n",
        "        return torch.zeros((self.num_layers, shape[1], self.hidden_dim))"
      ],
      "execution_count": 0,
      "outputs": []
    },
    {
      "cell_type": "code",
      "metadata": {
        "id": "pQwY_iAtngad",
        "colab_type": "code",
        "colab": {}
      },
      "source": [
        "em_sz = 50\n",
        "nh = 50\n",
        "model = RNNBaseline(nh, emb_dim=em_sz)"
      ],
      "execution_count": 0,
      "outputs": []
    },
    {
      "cell_type": "code",
      "metadata": {
        "id": "vjUPBQyhngam",
        "colab_type": "code",
        "colab": {
          "base_uri": "https://localhost:8080/",
          "height": 102
        },
        "outputId": "b3e077c0-540e-4617-f208-c9248c5a36cb"
      },
      "source": [
        "model"
      ],
      "execution_count": 35,
      "outputs": [
        {
          "output_type": "execute_result",
          "data": {
            "text/plain": [
              "RNNBaseline(\n",
              "  (emb): Embedding(201579, 50)\n",
              "  (rnn): GRU(50, 50)\n",
              "  (fc): Linear(in_features=50, out_features=2, bias=True)\n",
              ")"
            ]
          },
          "metadata": {
            "tags": []
          },
          "execution_count": 35
        }
      ]
    },
    {
      "cell_type": "markdown",
      "metadata": {
        "id": "7ub7HmqEngat",
        "colab_type": "text"
      },
      "source": [
        "Define the optimization and the loss functions."
      ]
    },
    {
      "cell_type": "code",
      "metadata": {
        "id": "-OaMjBrdngau",
        "colab_type": "code",
        "colab": {}
      },
      "source": [
        "opt = optim.Adam(model.parameters(), lr=1e-3)\n",
        "loss_func = nn.CrossEntropyLoss()"
      ],
      "execution_count": 0,
      "outputs": []
    },
    {
      "cell_type": "markdown",
      "metadata": {
        "id": "UnlD1jWQnga9",
        "colab_type": "text"
      },
      "source": [
        "Define the stopping criteria."
      ]
    },
    {
      "cell_type": "code",
      "metadata": {
        "id": "_1TgKvSbngbA",
        "colab_type": "code",
        "colab": {}
      },
      "source": [
        "epochs = 50"
      ],
      "execution_count": 0,
      "outputs": []
    },
    {
      "cell_type": "code",
      "metadata": {
        "id": "kzTilsA5ngbK",
        "colab_type": "code",
        "colab": {}
      },
      "source": [
        "epoch_losses = []\n",
        "val_losses = []"
      ],
      "execution_count": 0,
      "outputs": []
    },
    {
      "cell_type": "code",
      "metadata": {
        "pixiedust": {
          "displayParams": {}
        },
        "id": "VOAYKk_rngbQ",
        "colab_type": "code",
        "colab": {}
      },
      "source": [
        "for epoch in range(epochs):\n",
        "    running_loss = 0.0\n",
        "    running_corrects = 0\n",
        "    model.train() \n",
        "    for idx, batch in enumerate(train_iter): \n",
        "        x = batch.text\n",
        "        y = batch.label\n",
        "\n",
        "        opt.zero_grad()\n",
        "        preds, _ = model(x)\n",
        "        loss = loss_func(preds, y)\n",
        "        loss.backward()\n",
        "        opt.step()\n",
        "        running_loss += loss.item()\n",
        "            \n",
        "    epoch_loss = running_loss / len(train_iter)\n",
        "    \n",
        "    val_loss = 0.0\n",
        "    model.eval()\n",
        "    for batch in val_iter:\n",
        "        x = batch.text\n",
        "        y = batch.label\n",
        "        \n",
        "        preds, _ = model(x) \n",
        "        loss = loss_func(preds, y)\n",
        "        val_loss += loss.item()\n",
        "        \n",
        "    val_loss /= len(val_iter)\n",
        "\n",
        "    if epoch > 10 and sum(val_losses[-5:]) / 5 > sum(val_losses[-10:]) / 10:\n",
        "      break\n",
        "\n",
        "    epoch_losses.append(epoch_loss)\n",
        "    val_losses.append(val_loss)"
      ],
      "execution_count": 0,
      "outputs": []
    },
    {
      "cell_type": "code",
      "metadata": {
        "id": "UVag7HEE-ibx",
        "colab_type": "code",
        "colab": {
          "base_uri": "https://localhost:8080/",
          "height": 34
        },
        "outputId": "a84fce44-4d3f-4bc5-8602-b4b8180d9334"
      },
      "source": [
        "epoch"
      ],
      "execution_count": 43,
      "outputs": [
        {
          "output_type": "execute_result",
          "data": {
            "text/plain": [
              "12"
            ]
          },
          "metadata": {
            "tags": []
          },
          "execution_count": 43
        }
      ]
    },
    {
      "cell_type": "code",
      "metadata": {
        "id": "0odis9cQAxkE",
        "colab_type": "code",
        "colab": {
          "base_uri": "https://localhost:8080/",
          "height": 282
        },
        "outputId": "a6739c56-8c64-4fb1-ba88-b6def3da1063"
      },
      "source": [
        "from matplotlib import pyplot as plt\n",
        "\n",
        "plt.plot(range(len(epoch_losses)), epoch_losses, label='train error')\n",
        "plt.plot(range(len(val_losses)), val_losses, label='val error')\n",
        "plt.legend()"
      ],
      "execution_count": 53,
      "outputs": [
        {
          "output_type": "execute_result",
          "data": {
            "text/plain": [
              "<matplotlib.legend.Legend at 0x7f1e0bad0048>"
            ]
          },
          "metadata": {
            "tags": []
          },
          "execution_count": 53
        },
        {
          "output_type": "display_data",
          "data": {
            "image/png": "[encoded data removed]",
            "text/plain": [
              "<Figure size 432x288 with 1 Axes>"
            ]
          },
          "metadata": {
            "tags": []
          }
        }
      ]
    },
    {
      "cell_type": "markdown",
      "metadata": {
        "id": "XdRJe7iQngbX",
        "colab_type": "text"
      },
      "source": [
        "### Calculate performance of the trained model (5 points)"
      ]
    },
    {
      "cell_type": "code",
      "metadata": {
        "pixiedust": {
          "displayParams": {}
        },
        "id": "xzSOatxkngbZ",
        "colab_type": "code",
        "colab": {}
      },
      "source": [
        "batch_size = 64\n",
        "accuracy = 0\n",
        "true_positive = 0\n",
        "false_negative = 0\n",
        "false_positive = 0\n",
        "\n",
        "model.eval()\n",
        "\n",
        "for batch in test_iter:\n",
        "    x = batch.text\n",
        "    y = batch.label\n",
        "    \n",
        "    preds, _= model(x)\n",
        "    preds = preds.argmax(dim=-1)\n",
        "    \n",
        "    accuracy += (preds == y).sum()\n",
        "    true_positive += ((preds == y) * y * preds).sum()\n",
        "    false_positive += ((preds != y) * (1 - y) * preds).sum()\n",
        "    false_negative += ((preds != y) * y * (1 - preds)).sum()"
      ],
      "execution_count": 0,
      "outputs": []
    },
    {
      "cell_type": "code",
      "metadata": {
        "id": "eO_klXQjngbe",
        "colab_type": "code",
        "colab": {}
      },
      "source": [
        "accuracy = accuracy.item()\n",
        "true_positive = true_positive.item()\n",
        "false_positive = false_positive.item()\n",
        "false_negative = false_negative.item()"
      ],
      "execution_count": 0,
      "outputs": []
    },
    {
      "cell_type": "code",
      "metadata": {
        "id": "GwpXKO6Jngbm",
        "colab_type": "code",
        "colab": {}
      },
      "source": [
        "accuracy = accuracy / batch_size / len(test_iter) * 100\n",
        "precision = true_positive / (true_positive + false_positive)\n",
        "recall = true_positive / (true_positive + false_negative)"
      ],
      "execution_count": 0,
      "outputs": []
    },
    {
      "cell_type": "code",
      "metadata": {
        "id": "sj5xhgIWngbs",
        "colab_type": "code",
        "colab": {
          "base_uri": "https://localhost:8080/",
          "height": 85
        },
        "outputId": "47b6063a-fc19-4f0b-e9dd-1ffe79d3d678"
      },
      "source": [
        "print('Accuracy {}%'.format(round(accuracy, 4)))\n",
        "print('Precision {}'.format(round(precision, 4)))\n",
        "print('Recall {}'. format(round(recall, 4)))\n",
        "print('F1 {}'.format(round(2 * precision * recall / (precision + recall), 4)))"
      ],
      "execution_count": 47,
      "outputs": [
        {
          "output_type": "stream",
          "text": [
            "Accuracy 79.7075%\n",
            "Precision 0.7504\n",
            "Recall 0.8926\n",
            "F1 0.8153\n"
          ],
          "name": "stdout"
        }
      ]
    },
    {
      "cell_type": "markdown",
      "metadata": {
        "id": "l6XuDHEAngby",
        "colab_type": "text"
      },
      "source": [
        "# All experiments well be held inside one training session\n",
        "\n",
        "### 1. Slanted triangular learning rates\n",
        "### 2. Adding new preceding layers after training the main model\n",
        "### 3. Adding BatchNorm & DropOut to starting layers after training"
      ]
    },
    {
      "cell_type": "code",
      "metadata": {
        "id": "7d79EPFxngb0",
        "colab_type": "code",
        "colab": {}
      },
      "source": [
        "from math import floor\n",
        "\n",
        "class SLTR:\n",
        "    def __init__(self, training_iterations, cut_frac=0.1, ratio=32):\n",
        "        self.training_iterations = training_iterations\n",
        "        self.cut_frac = cut_frac\n",
        "        self.ratio = ratio\n",
        "        self.cut = floor(training_iterations * cut_frac)\n",
        "    \n",
        "    def __call__(self, it):\n",
        "        if it < self.cut:\n",
        "            p = it / self.cut\n",
        "        else:\n",
        "            p = 1 - (it - self.cut) / (self.cut * (1 / self.cut_frac - 1))\n",
        "        return (1 + p * (self.ratio - 1)) / self.ratio"
      ],
      "execution_count": 0,
      "outputs": []
    },
    {
      "cell_type": "code",
      "metadata": {
        "id": "DxOspTurngb9",
        "colab_type": "code",
        "colab": {}
      },
      "source": [
        "model1_start = RNNBaseline(nh, emb_dim=em_sz)"
      ],
      "execution_count": 0,
      "outputs": []
    },
    {
      "cell_type": "code",
      "metadata": {
        "id": "2lzrcEj5ngcF",
        "colab_type": "code",
        "colab": {
          "base_uri": "https://localhost:8080/",
          "height": 102
        },
        "outputId": "0387e785-13af-423e-cfee-2ee672723a37"
      },
      "source": [
        "model1_start"
      ],
      "execution_count": 50,
      "outputs": [
        {
          "output_type": "execute_result",
          "data": {
            "text/plain": [
              "RNNBaseline(\n",
              "  (emb): Embedding(201579, 50)\n",
              "  (rnn): GRU(50, 50)\n",
              "  (fc): Linear(in_features=50, out_features=2, bias=True)\n",
              ")"
            ]
          },
          "metadata": {
            "tags": []
          },
          "execution_count": 50
        }
      ]
    },
    {
      "cell_type": "code",
      "metadata": {
        "id": "siB3orzxngcL",
        "colab_type": "code",
        "colab": {}
      },
      "source": [
        "epochs = 10"
      ],
      "execution_count": 0,
      "outputs": []
    },
    {
      "cell_type": "code",
      "metadata": {
        "id": "rktIs-f6ngcQ",
        "colab_type": "code",
        "colab": {}
      },
      "source": [
        "scheduler_func = SLTR(epochs * len(train_iter))\n",
        "opt = optim.Adam(model1_start.parameters(), lr=0.001)\n",
        "scheduler = optim.lr_scheduler.LambdaLR(opt, lambda e: scheduler_func(e))\n",
        "loss_func = nn.CrossEntropyLoss()"
      ],
      "execution_count": 0,
      "outputs": []
    },
    {
      "cell_type": "code",
      "metadata": {
        "id": "uU5RZbbMngcb",
        "colab_type": "code",
        "colab": {}
      },
      "source": [
        "epoch_losses1_start = []\n",
        "val_losses1_start = []\n",
        "\n",
        "for epoch in range(epochs):\n",
        "    running_loss = 0.0\n",
        "    running_corrects = 0\n",
        "    model1_start.train() \n",
        "    for idx, batch in enumerate(train_iter): \n",
        "        x = batch.text\n",
        "        y = batch.label\n",
        "\n",
        "        opt.zero_grad()\n",
        "        preds, _ = model1_start(x)\n",
        "        loss = loss_func(preds, y)\n",
        "        loss.backward()\n",
        "        \n",
        "        opt.step()\n",
        "        scheduler.step()\n",
        "        running_loss += loss.item()\n",
        "            \n",
        "    epoch_loss = running_loss / len(train_iter)\n",
        "    \n",
        "    val_loss = 0.0\n",
        "    model1_start.eval()\n",
        "    for batch in val_iter:\n",
        "        x = batch.text\n",
        "        y = batch.label\n",
        "        \n",
        "        preds, _ = model1_start(x) \n",
        "        loss = loss_func(preds, y)\n",
        "        val_loss += loss.item()\n",
        "        \n",
        "    val_loss /= len(val_iter)\n",
        "\n",
        "    epoch_losses1_start.append(epoch_loss)\n",
        "    val_losses1_start.append(val_loss)"
      ],
      "execution_count": 0,
      "outputs": []
    },
    {
      "cell_type": "code",
      "metadata": {
        "id": "tJrPYUIFBJNv",
        "colab_type": "code",
        "colab": {
          "base_uri": "https://localhost:8080/",
          "height": 282
        },
        "outputId": "aa005b3a-840d-4f7d-f8bf-9da6912bb4bc"
      },
      "source": [
        "plt.plot(range(len(epoch_losses1_start)), epoch_losses1_start, label='train error')\n",
        "plt.plot(range(len(val_losses1_start)), val_losses1_start, label='val error')\n",
        "plt.legend()"
      ],
      "execution_count": 57,
      "outputs": [
        {
          "output_type": "execute_result",
          "data": {
            "text/plain": [
              "<matplotlib.legend.Legend at 0x7f1df8b28b70>"
            ]
          },
          "metadata": {
            "tags": []
          },
          "execution_count": 57
        },
        {
          "output_type": "display_data",
          "data": {
            "image/png": "[encoded data removed]",
            "text/plain": [
              "<Figure size 432x288 with 1 Axes>"
            ]
          },
          "metadata": {
            "tags": []
          }
        }
      ]
    },
    {
      "cell_type": "code",
      "metadata": {
        "id": "0PSou9Vlngci",
        "colab_type": "code",
        "colab": {}
      },
      "source": [
        "batch_size = 64\n",
        "accuracy1_start = 0\n",
        "true_positive1_start = 0\n",
        "false_negative1_start = 0\n",
        "false_positive1_start = 0\n",
        "\n",
        "model1_start.eval()\n",
        "\n",
        "for batch in test_iter:\n",
        "    x = batch.text\n",
        "    y = batch.label\n",
        "    \n",
        "    preds, _= model1_start(x)\n",
        "    preds = preds.argmax(dim=-1)\n",
        "    \n",
        "    accuracy1_start += (preds == y).sum()\n",
        "    true_positive1_start += ((preds == y) * y * preds).sum()\n",
        "    false_positive1_start += ((preds != y) * (1 - y) * preds).sum()\n",
        "    false_negative1_start += ((preds != y) * y * (1 - preds)).sum()"
      ],
      "execution_count": 0,
      "outputs": []
    },
    {
      "cell_type": "code",
      "metadata": {
        "id": "x7i9n62kngco",
        "colab_type": "code",
        "colab": {}
      },
      "source": [
        "accuracy1_start = accuracy1_start.item()\n",
        "true_positive1_start = true_positive1_start.item()\n",
        "false_positive1_start = false_positive1_start.item()\n",
        "false_negative1_start = false_negative1_start.item()"
      ],
      "execution_count": 0,
      "outputs": []
    },
    {
      "cell_type": "code",
      "metadata": {
        "id": "q9gAjZJsngcw",
        "colab_type": "code",
        "colab": {}
      },
      "source": [
        "accuracy1_start = accuracy1_start / batch_size / len(test_iter) * 100\n",
        "precision1_start = true_positive1_start / (true_positive1_start + false_positive1_start)\n",
        "recall1_start = true_positive1_start / (true_positive1_start + false_negative1_start)"
      ],
      "execution_count": 0,
      "outputs": []
    },
    {
      "cell_type": "code",
      "metadata": {
        "scrolled": true,
        "id": "Zo2GvbfKngc2",
        "colab_type": "code",
        "colab": {
          "base_uri": "https://localhost:8080/",
          "height": 85
        },
        "outputId": "d2fdd464-8356-4aab-abd9-e259e85a8811"
      },
      "source": [
        "print('Accuracy {}%'.format(round(accuracy1_start, 4)))\n",
        "print('Precision {}'.format(round(precision1_start, 4)))\n",
        "print('Recall {}'. format(round(recall1_start, 4)))\n",
        "print('F1 {}'.format(round(2 * precision1_start * recall1_start / (precision1_start + recall1_start), 4)))"
      ],
      "execution_count": 61,
      "outputs": [
        {
          "output_type": "stream",
          "text": [
            "Accuracy 74.948%\n",
            "Precision 0.7602\n",
            "Recall 0.731\n",
            "F1 0.7453\n"
          ],
          "name": "stdout"
        }
      ]
    },
    {
      "cell_type": "code",
      "metadata": {
        "id": "Q0EF-bDwngc8",
        "colab_type": "code",
        "colab": {}
      },
      "source": [
        "for param in model1_start.parameters():\n",
        "    param.requires_grad = False"
      ],
      "execution_count": 0,
      "outputs": []
    },
    {
      "cell_type": "code",
      "metadata": {
        "id": "iXj2OxnungdB",
        "colab_type": "code",
        "colab": {}
      },
      "source": [
        "class NewStackModel(nn.Module):\n",
        "    def __init__(self, batch_size, input_size, fc_hidden_1, fc_hidden_2, model, p1=0.5, p2=0.5):\n",
        "        super().__init__()\n",
        "        \n",
        "        self.batch_size = batch_size\n",
        "        self.input_size = input_size\n",
        "        self.fc_hidden_1 = fc_hidden_1\n",
        "        self.fc_hidden_2 = fc_hidden_2\n",
        "        self.p1 = p1\n",
        "        self.p2 = p2\n",
        "        self.model = model\n",
        "        \n",
        "        self.bn1 = nn.BatchNorm1d(batch_size)\n",
        "        self.rulu1 = nn.ReLU()\n",
        "        self.dropout1 = nn.Dropout(p1)\n",
        "        self.fc1 = nn.Linear(input_size, fc_hidden_2)\n",
        "        self.bn2 = nn.BatchNorm1d(batch_size)\n",
        "        self.relu2 = nn.ReLU()\n",
        "        self.dropout2 = nn.Dropout(p2)\n",
        "        self.fc2 = nn.Linear(fc_hidden_2, 2)\n",
        "    \n",
        "    def forward(self, x):\n",
        "        _, x = self.model(x)\n",
        "        x = self.bn1(x)\n",
        "        x = self.rulu1(x)\n",
        "        x = self.dropout1(x)\n",
        "        x = self.fc1(x)\n",
        "        x = self.bn2(x)\n",
        "        x = self.relu2(x)\n",
        "        x = self.dropout2(x)\n",
        "        x = self.fc2(x)\n",
        "        return x"
      ],
      "execution_count": 0,
      "outputs": []
    },
    {
      "cell_type": "code",
      "metadata": {
        "id": "gDbBfe5JngdJ",
        "colab_type": "code",
        "colab": {}
      },
      "source": [
        "epochs = 30\n",
        "\n",
        "hidden1 = 50\n",
        "hidden2 = 50"
      ],
      "execution_count": 0,
      "outputs": []
    },
    {
      "cell_type": "code",
      "metadata": {
        "id": "IF20zOCengdP",
        "colab_type": "code",
        "colab": {}
      },
      "source": [
        "model1 = NewStackModel(batch_size, nh, hidden1, hidden2, model1_start)"
      ],
      "execution_count": 0,
      "outputs": []
    },
    {
      "cell_type": "code",
      "metadata": {
        "id": "9jSoQu2FngdZ",
        "colab_type": "code",
        "colab": {
          "base_uri": "https://localhost:8080/",
          "height": 272
        },
        "outputId": "a79d17f0-d890-4c6a-a986-cbafbe32196f"
      },
      "source": [
        "model1"
      ],
      "execution_count": 66,
      "outputs": [
        {
          "output_type": "execute_result",
          "data": {
            "text/plain": [
              "NewStackModel(\n",
              "  (model): RNNBaseline(\n",
              "    (emb): Embedding(201579, 50)\n",
              "    (rnn): GRU(50, 50)\n",
              "    (fc): Linear(in_features=50, out_features=2, bias=True)\n",
              "  )\n",
              "  (bn1): BatchNorm1d(64, eps=1e-05, momentum=0.1, affine=True, track_running_stats=True)\n",
              "  (rulu1): ReLU()\n",
              "  (dropout1): Dropout(p=0.5, inplace=False)\n",
              "  (fc1): Linear(in_features=50, out_features=50, bias=True)\n",
              "  (bn2): BatchNorm1d(64, eps=1e-05, momentum=0.1, affine=True, track_running_stats=True)\n",
              "  (relu2): ReLU()\n",
              "  (dropout2): Dropout(p=0.5, inplace=False)\n",
              "  (fc2): Linear(in_features=50, out_features=2, bias=True)\n",
              ")"
            ]
          },
          "metadata": {
            "tags": []
          },
          "execution_count": 66
        }
      ]
    },
    {
      "cell_type": "code",
      "metadata": {
        "pixiedust": {
          "displayParams": {}
        },
        "id": "HDX-5eo-ngdi",
        "colab_type": "code",
        "colab": {}
      },
      "source": [
        "scheduler_func = SLTR(epochs * len(train_iter))\n",
        "opt = optim.SGD(model1.parameters(), lr=0.01)\n",
        "scheduler = optim.lr_scheduler.LambdaLR(opt, lambda e: scheduler_func(e))\n",
        "loss_func = nn.CrossEntropyLoss()"
      ],
      "execution_count": 0,
      "outputs": []
    },
    {
      "cell_type": "code",
      "metadata": {
        "scrolled": false,
        "id": "G8MU_99Ingdv",
        "colab_type": "code",
        "colab": {}
      },
      "source": [
        "epoch_losses1 = []\n",
        "val_losses1 = []\n",
        "\n",
        "\n",
        "for epoch in range(epochs):\n",
        "    running_loss = 0.0\n",
        "    running_corrects = 0\n",
        "    model1.train() \n",
        "    for idx, batch in enumerate(train_iter): \n",
        "        x = batch.text\n",
        "        y = batch.label\n",
        "\n",
        "        if x.shape[-1] != batch_size:\n",
        "            continue\n",
        "        \n",
        "        opt.zero_grad()\n",
        "        preds = model1(x).squeeze()\n",
        "        loss = loss_func(preds, y)\n",
        "        loss.backward()\n",
        "\n",
        "        opt.step()\n",
        "        scheduler.step()\n",
        "        running_loss += loss.item()\n",
        "            \n",
        "    epoch_loss = running_loss / len(train_iter)\n",
        "    \n",
        "    val_loss = 0.0\n",
        "    model1.eval()\n",
        "    for batch in val_iter:\n",
        "        x = batch.text\n",
        "        y = batch.label\n",
        "        \n",
        "        if x.shape[-1] != batch_size:\n",
        "            continue\n",
        "        \n",
        "        preds = model1(x).squeeze()\n",
        "        loss = loss_func(preds, y)\n",
        "        val_loss += loss.item()\n",
        "        \n",
        "    val_loss /= len(val_iter)\n",
        "    \n",
        "    if epoch > 10 and sum(val_losses[-5:]) / 5 > sum(val_losses[-10:]) / 10:\n",
        "      break\n",
        "    \n",
        "    val_losses1.append(val_loss)\n",
        "    epoch_losses1.append(epoch_loss)"
      ],
      "execution_count": 0,
      "outputs": []
    },
    {
      "cell_type": "code",
      "metadata": {
        "id": "yBxyDOZGQpFg",
        "colab_type": "code",
        "colab": {
          "base_uri": "https://localhost:8080/",
          "height": 282
        },
        "outputId": "93e8706b-1192-4fea-f8d7-ebf6c5f07efd"
      },
      "source": [
        "plt.plot(range(len(epoch_losses1)), epoch_losses1, label='train error')\n",
        "plt.plot(range(len(val_losses1)), val_losses1, label='val error')\n",
        "plt.legend()"
      ],
      "execution_count": 70,
      "outputs": [
        {
          "output_type": "execute_result",
          "data": {
            "text/plain": [
              "<matplotlib.legend.Legend at 0x7f1df8b0b0b8>"
            ]
          },
          "metadata": {
            "tags": []
          },
          "execution_count": 70
        },
        {
          "output_type": "display_data",
          "data": {
            "image/png": "[encoded data removed]",
            "text/plain": [
              "<Figure size 432x288 with 1 Axes>"
            ]
          },
          "metadata": {
            "tags": []
          }
        }
      ]
    },
    {
      "cell_type": "code",
      "metadata": {
        "id": "RwofIJsmngd4",
        "colab_type": "code",
        "colab": {}
      },
      "source": [
        "batch_size = 64\n",
        "accuracy1 = 0\n",
        "true_positive1 = 0\n",
        "false_negative1 = 0\n",
        "false_positive1 = 0\n",
        "\n",
        "model1.eval()\n",
        "\n",
        "for batch in test_iter:\n",
        "    x = batch.text\n",
        "    y = batch.label\n",
        "    \n",
        "    if x.shape[-1] != batch_size:\n",
        "        break\n",
        "    \n",
        "    preds = model1(x)\n",
        "    preds = preds.argmax(dim=-1)\n",
        "    \n",
        "    accuracy1 += (preds == y).sum()\n",
        "    true_positive1 += ((preds == y) * y * preds).sum()\n",
        "    false_positive1 += ((preds != y) * (1 - y) * preds).sum()\n",
        "    false_negative1 += ((preds != y) * y * (1 - preds)).sum()"
      ],
      "execution_count": 0,
      "outputs": []
    },
    {
      "cell_type": "code",
      "metadata": {
        "id": "IO5AU7HIngd_",
        "colab_type": "code",
        "colab": {}
      },
      "source": [
        "accuracy1 = accuracy1.item()\n",
        "true_positive1 = true_positive1.item()\n",
        "false_positive1 = false_positive1.item()\n",
        "false_negative1 = false_negative1.item()"
      ],
      "execution_count": 0,
      "outputs": []
    },
    {
      "cell_type": "code",
      "metadata": {
        "id": "coqqTs3HngeG",
        "colab_type": "code",
        "colab": {}
      },
      "source": [
        "accuracy1 = accuracy1 / batch_size / len(test_iter) * 100\n",
        "precision1 = true_positive1 / (true_positive1 + false_positive1)\n",
        "recall1 = true_positive1 / (true_positive1 + false_negative1)"
      ],
      "execution_count": 0,
      "outputs": []
    },
    {
      "cell_type": "code",
      "metadata": {
        "id": "NqxIjNj5ngeM",
        "colab_type": "code",
        "colab": {
          "base_uri": "https://localhost:8080/",
          "height": 85
        },
        "outputId": "4dd9d7e1-6051-4b05-d7c5-f325e35f0d72"
      },
      "source": [
        "print('Accuracy {}%'.format(round(accuracy1, 4)))\n",
        "print('Precision {}'.format(round(precision1, 4)))\n",
        "print('Recall {}'. format(round(recall1, 4)))\n",
        "print('F1 {}'.format(round(2 * precision1 * recall1 / (precision1 + recall1), 4)))"
      ],
      "execution_count": 74,
      "outputs": [
        {
          "output_type": "stream",
          "text": [
            "Accuracy 74.8402%\n",
            "Precision 0.7611\n",
            "Recall 0.7286\n",
            "F1 0.7445\n"
          ],
          "name": "stdout"
        }
      ]
    }
  ]
}