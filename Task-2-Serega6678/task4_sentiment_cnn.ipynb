{
  "nbformat": 4,
  "nbformat_minor": 0,
  "metadata": {
    "kernelspec": {
      "name": "python3",
      "display_name": "Python 3"
    },
    "language_info": {
      "codemirror_mode": {
        "name": "ipython",
        "version": 3
      },
      "file_extension": ".py",
      "mimetype": "text/x-python",
      "name": "python",
      "nbconvert_exporter": "python",
      "pygments_lexer": "ipython3",
      "version": "3.7.4"
    },
    "colab": {
      "name": "Copy of task4_sentiment_cnn.ipynb",
      "provenance": [],
      "collapsed_sections": []
    },
    "accelerator": "GPU"
  },
  "cells": [
    {
      "cell_type": "markdown",
      "metadata": {
        "id": "J27_tMzgkygO",
        "colab_type": "text"
      },
      "source": [
        "## Assignment 2.4: Text classification via CNN (20 points)"
      ]
    },
    {
      "cell_type": "markdown",
      "metadata": {
        "id": "lxQfvZzrkygT",
        "colab_type": "text"
      },
      "source": [
        "In this assignment you should perform sentiment analysis of the IMDB reviews based on CNN architecture. Read carefully [Convolutional Neural Networks for Sentence Classification](https://arxiv.org/pdf/1408.5882.pdf) by Yoon Kim."
      ]
    },
    {
      "cell_type": "code",
      "metadata": {
        "id": "7lvo7KqxkygW",
        "colab_type": "code",
        "colab": {}
      },
      "source": [
        "import numpy as np\n",
        "import torch\n",
        "\n",
        "import torch.nn as nn\n",
        "import torch.nn.functional as F\n",
        "import torch.optim as optim\n",
        "\n",
        "from torchtext import datasets\n",
        "from torchtext.data import Field, LabelField\n",
        "from torchtext.data import Iterator\n",
        "\n",
        "device='cuda'"
      ],
      "execution_count": 0,
      "outputs": []
    },
    {
      "cell_type": "markdown",
      "metadata": {
        "id": "YiYzQlZAkygi",
        "colab_type": "text"
      },
      "source": [
        "### Preparing Data"
      ]
    },
    {
      "cell_type": "code",
      "metadata": {
        "id": "gMK8x2zAkygk",
        "colab_type": "code",
        "colab": {}
      },
      "source": [
        "TEXT = Field(sequential=True, lower=True, batch_first=True)\n",
        "LABEL = LabelField(batch_first=True)"
      ],
      "execution_count": 0,
      "outputs": []
    },
    {
      "cell_type": "code",
      "metadata": {
        "id": "jgxjiULPkygz",
        "colab_type": "code",
        "colab": {}
      },
      "source": [
        "train, tst = datasets.IMDB.splits(TEXT, LABEL)\n",
        "trn, vld = train.split()"
      ],
      "execution_count": 0,
      "outputs": []
    },
    {
      "cell_type": "code",
      "metadata": {
        "id": "OOvd7yjakyhP",
        "colab_type": "code",
        "colab": {}
      },
      "source": [
        "LABEL.build_vocab(trn)"
      ],
      "execution_count": 0,
      "outputs": []
    },
    {
      "cell_type": "code",
      "metadata": {
        "id": "4wtr8EqGijqn",
        "colab_type": "code",
        "outputId": "fb7e61e7-128e-44d4-faf3-91967975d752",
        "colab": {
          "base_uri": "https://localhost:8080/",
          "height": 51
        }
      },
      "source": [
        "%%time\n",
        "TEXT.build_vocab(trn)"
      ],
      "execution_count": 71,
      "outputs": [
        {
          "output_type": "stream",
          "text": [
            "CPU times: user 1.23 s, sys: 3.95 ms, total: 1.23 s\n",
            "Wall time: 1.23 s\n"
          ],
          "name": "stdout"
        }
      ]
    },
    {
      "cell_type": "markdown",
      "metadata": {
        "id": "KBy7OQ3lkyhh",
        "colab_type": "text"
      },
      "source": [
        "### Creating the Iterator (2 points)"
      ]
    },
    {
      "cell_type": "markdown",
      "metadata": {
        "id": "MQF9A9Xbkyhj",
        "colab_type": "text"
      },
      "source": [
        "Define an iterator here"
      ]
    },
    {
      "cell_type": "code",
      "metadata": {
        "id": "achBZU5Hkyhk",
        "colab_type": "code",
        "colab": {}
      },
      "source": [
        "train_iter, val_iter, test_iter = Iterator.splits(\n",
        "        (trn, vld, tst),\n",
        "        batch_sizes=(8, 8, 8),\n",
        "        sort=False,\n",
        "        sort_key=lambda x: len(x),\n",
        "        sort_within_batch=False,\n",
        "        device='cuda',\n",
        "        repeat=False\n",
        ")"
      ],
      "execution_count": 0,
      "outputs": []
    },
    {
      "cell_type": "markdown",
      "metadata": {
        "id": "E-i3a2Mlkyhv",
        "colab_type": "text"
      },
      "source": [
        "### Define CNN-based text classification model (8 points)"
      ]
    },
    {
      "cell_type": "code",
      "metadata": {
        "id": "MdAvGgTYkyh6",
        "colab_type": "code",
        "colab": {}
      },
      "source": [
        "class CNN(nn.Module):\n",
        "    def __init__(self, V, D, kernel_sizes, batch_size=8, dropout=0.5):\n",
        "        super(CNN, self).__init__()\n",
        "        \n",
        "        self.emb_dim = D\n",
        "        self.voc_size = V\n",
        "        self.p = dropout\n",
        "        self.batch_size = batch_size\n",
        "        self.kernel_sizes = kernel_sizes\n",
        "        \n",
        "        self.emb = nn.Embedding(self.voc_size, self.emb_dim)\n",
        "        self.conv1 = nn.Conv1d(self.emb_dim, 1, kernel_size=kernel_sizes[0])\n",
        "        self.conv2 = nn.Conv1d(self.emb_dim, 1, kernel_sizes[1])\n",
        "        self.conv3 = nn.Conv1d(self.emb_dim, 1, kernel_sizes[2])\n",
        "        self.tanh = nn.Tanh()\n",
        "        self.dropout = nn.Dropout(self.p)\n",
        "        self.fc = nn.Linear(3, 2)\n",
        "        \n",
        "        \n",
        "    def forward(self, x):\n",
        "        x = self.emb(x).permute(0, 2, 1)\n",
        "        x1 = self.tanh(self.conv1(x))\n",
        "        x2 = self.tanh(self.conv2(x))\n",
        "        x3 = self.tanh(self.conv3(x))\n",
        "        \n",
        "        x1 = x1.max(dim=-1)[0].squeeze().unsqueeze(dim=-1)\n",
        "        x2 = x2.max(dim=-1)[0].squeeze().unsqueeze(dim=-1)\n",
        "        x3 = x3.max(dim=-1)[0].squeeze().unsqueeze(dim=-1)\n",
        "        \n",
        "        x = torch.cat([x1, x2, x3], dim=-1)\n",
        "        \n",
        "        x = self.dropout(x)\n",
        "        logit = self.fc(x)\n",
        "        return logit"
      ],
      "execution_count": 0,
      "outputs": []
    },
    {
      "cell_type": "code",
      "metadata": {
        "id": "u4amWJEWkyiD",
        "colab_type": "code",
        "colab": {}
      },
      "source": [
        "kernel_sizes = [3,4,5]\n",
        "vocab_size = len(TEXT.vocab)\n",
        "dropout = 0.5\n",
        "dim = 300\n",
        "\n",
        "model = CNN(vocab_size, dim, kernel_sizes)"
      ],
      "execution_count": 0,
      "outputs": []
    },
    {
      "cell_type": "code",
      "metadata": {
        "id": "9urFlh9Bk_Nt",
        "colab_type": "code",
        "outputId": "43fa362e-31bf-4340-af58-cf15010a262c",
        "colab": {
          "base_uri": "https://localhost:8080/",
          "height": 170
        }
      },
      "source": [
        "model.cuda()"
      ],
      "execution_count": 0,
      "outputs": [
        {
          "output_type": "execute_result",
          "data": {
            "text/plain": [
              "CNN(\n",
              "  (emb): Embedding(202196, 300)\n",
              "  (conv1): Conv1d(300, 1, kernel_size=(3,), stride=(1,))\n",
              "  (conv2): Conv1d(300, 1, kernel_size=(4,), stride=(1,))\n",
              "  (conv3): Conv1d(300, 1, kernel_size=(5,), stride=(1,))\n",
              "  (tanh): Tanh()\n",
              "  (dropout): Dropout(p=0.5, inplace=False)\n",
              "  (fc): Linear(in_features=3, out_features=2, bias=True)\n",
              ")"
            ]
          },
          "metadata": {
            "tags": []
          },
          "execution_count": 13
        }
      ]
    },
    {
      "cell_type": "markdown",
      "metadata": {
        "id": "YlolKExrkyiw",
        "colab_type": "text"
      },
      "source": [
        "### The training loop (3 points)"
      ]
    },
    {
      "cell_type": "markdown",
      "metadata": {
        "id": "VQPLnmemkyiz",
        "colab_type": "text"
      },
      "source": [
        "Define the optimization function and the loss functions."
      ]
    },
    {
      "cell_type": "code",
      "metadata": {
        "id": "xNnzTdBgkyi1",
        "colab_type": "code",
        "colab": {}
      },
      "source": [
        "opt = optim.Adam(model.parameters(), lr=1e-3)\n",
        "loss_func = nn.CrossEntropyLoss()"
      ],
      "execution_count": 0,
      "outputs": []
    },
    {
      "cell_type": "markdown",
      "metadata": {
        "id": "revIolY0kyjC",
        "colab_type": "text"
      },
      "source": [
        "Think carefully about the stopping criteria. "
      ]
    },
    {
      "cell_type": "code",
      "metadata": {
        "id": "1L1DomFEkyjE",
        "colab_type": "code",
        "colab": {}
      },
      "source": [
        "#sample model\n",
        "epochs = 250"
      ],
      "execution_count": 0,
      "outputs": []
    },
    {
      "cell_type": "code",
      "metadata": {
        "pixiedust": {
          "displayParams": {}
        },
        "id": "9A8akJNTkyjO",
        "colab_type": "code",
        "colab": {}
      },
      "source": [
        "epoch_losses = []\n",
        "val_losses = []\n",
        "\n",
        "for epoch in range(1, epochs + 1):\n",
        "    running_loss = 0.0\n",
        "    running_corrects = 0\n",
        "    model.train() \n",
        "    for idx, batch in enumerate(train_iter):         \n",
        "        \n",
        "        x = batch.text.to(device)\n",
        "        y = batch.label.to(device)\n",
        "        \n",
        "        opt.zero_grad()\n",
        "        preds = model(x)\n",
        "        loss = loss_func(preds, y)\n",
        "        loss.backward()\n",
        "        opt.step()\n",
        "        running_loss += loss.item()\n",
        "        \n",
        "    epoch_loss = running_loss / len(train_iter)\n",
        "    \n",
        "    val_loss = 0.0\n",
        "    model.eval()\n",
        "    correct = 0\n",
        "    total = 0 \n",
        "    for batch in val_iter:\n",
        "        \n",
        "        x = batch.text.to(device)\n",
        "        y = batch.label.to(device)\n",
        "        \n",
        "        preds = model(x)\n",
        "        loss = loss_func(preds, y)\n",
        "        val_loss += loss.item()\n",
        "        \n",
        "    val_loss /= len(val_iter)\n",
        "\n",
        "    if epoch > 5 and sum(val_losses[-3:]) / 3 > sum(val_losses[-5:]) / 5:\n",
        "      break\n",
        "    \n",
        "    epoch_losses.append(epoch_loss)\n",
        "    val_losses.append(val_loss)"
      ],
      "execution_count": 0,
      "outputs": []
    },
    {
      "cell_type": "code",
      "metadata": {
        "id": "bKgBg6h2rBnz",
        "colab_type": "code",
        "outputId": "6e4205ce-d34c-4546-d873-053d50ebc459",
        "colab": {
          "base_uri": "https://localhost:8080/",
          "height": 282
        }
      },
      "source": [
        "from matplotlib import pyplot as plt\n",
        "\n",
        "plt.plot(range(len(epoch_losses)), epoch_losses, label='train error')\n",
        "plt.plot(range(len(val_losses)), val_losses, label='val error')"
      ],
      "execution_count": 0,
      "outputs": [
        {
          "output_type": "execute_result",
          "data": {
            "text/plain": [
              "[<matplotlib.lines.Line2D at 0x7fdb1db53b38>]"
            ]
          },
          "metadata": {
            "tags": []
          },
          "execution_count": 17
        },
        {
          "output_type": "display_data",
          "data": {
            "image/png": "[encoded data removed]",
            "text/plain": [
              "<Figure size 432x288 with 1 Axes>"
            ]
          },
          "metadata": {
            "tags": []
          }
        }
      ]
    },
    {
      "cell_type": "markdown",
      "metadata": {
        "id": "Hw7FgSQGkyjY",
        "colab_type": "text"
      },
      "source": [
        "### Calculate performance of the trained model (2 points)"
      ]
    },
    {
      "cell_type": "code",
      "metadata": {
        "id": "UfVS3vBhkyja",
        "colab_type": "code",
        "colab": {}
      },
      "source": [
        "batch_size = 8\n",
        "accuracy = 0\n",
        "true_positive = 0\n",
        "false_negative = 0\n",
        "false_positive = 0\n",
        "\n",
        "model.eval()\n",
        "\n",
        "for batch in test_iter:\n",
        "    x = batch.text.to(device)\n",
        "    y = batch.label.to(device)\n",
        "    \n",
        "    preds = model(x)\n",
        "    preds = preds.argmax(dim=-1)\n",
        "    \n",
        "    accuracy += (preds == y).sum()\n",
        "    true_positive += ((preds == y) * y * preds).sum()\n",
        "    false_positive += ((preds != y) * (1 - y) * preds).sum()\n",
        "    false_negative += ((preds != y) * y * (1 - preds)).sum()"
      ],
      "execution_count": 0,
      "outputs": []
    },
    {
      "cell_type": "code",
      "metadata": {
        "id": "RrvT6mZVOOGX",
        "colab_type": "code",
        "colab": {}
      },
      "source": [
        "accuracy = accuracy.item()\n",
        "true_positive = true_positive.item()\n",
        "false_positive = false_positive.item()\n",
        "false_negative = false_negative.item()"
      ],
      "execution_count": 0,
      "outputs": []
    },
    {
      "cell_type": "code",
      "metadata": {
        "id": "CKyuELBaOQfX",
        "colab_type": "code",
        "colab": {}
      },
      "source": [
        "accuracy = accuracy / batch_size / len(test_iter) * 100\n",
        "precision = true_positive / (true_positive + false_positive)\n",
        "recall = true_positive / (true_positive + false_negative)"
      ],
      "execution_count": 0,
      "outputs": []
    },
    {
      "cell_type": "code",
      "metadata": {
        "id": "A84lhXQJORRT",
        "colab_type": "code",
        "outputId": "7edbb07a-6a4b-413c-fe74-3df7f5364153",
        "colab": {
          "base_uri": "https://localhost:8080/",
          "height": 85
        }
      },
      "source": [
        "print('Accuracy {}%'.format(round(accuracy, 4)))\n",
        "print('Precision {}'.format(round(precision, 4)))\n",
        "print('Recall {}'. format(round(recall, 4)))\n",
        "print('F1 {}'.format(round(2 * precision * recall / (precision + recall), 4)))"
      ],
      "execution_count": 0,
      "outputs": [
        {
          "output_type": "stream",
          "text": [
            "Accuracy 75.4116%\n",
            "Precision 0.7358\n",
            "Recall 0.7953\n",
            "F1 0.7644\n"
          ],
          "name": "stdout"
        }
      ]
    },
    {
      "cell_type": "markdown",
      "metadata": {
        "id": "L1n12nwdkyjr",
        "colab_type": "text"
      },
      "source": [
        "# All experements will be held inside one training session\n",
        "### 1. Adding more convolution layers\n",
        "### 2. Adding convolutions with different stride\n",
        "### 3. Adding smart scheduler (the one from task-3 (RNN))"
      ]
    },
    {
      "cell_type": "code",
      "metadata": {
        "id": "iOwKfzh3knT8",
        "colab_type": "code",
        "colab": {}
      },
      "source": [
        "class CNNUPD(nn.Module):\n",
        "    def __init__(self, V, D, kernel_sizes, batch_size=8, dropout=0.5, strides=4):\n",
        "        super(CNNUPD, self).__init__()\n",
        "        \n",
        "        self.emb_dim = D\n",
        "        self.voc_size = V\n",
        "        self.p = dropout\n",
        "        self.batch_size = batch_size\n",
        "        if isinstance(kernel_sizes, (list, tuple)):\n",
        "            self.kernel_sizes = kernel_sizes\n",
        "        else:\n",
        "            self.kernel_sizes = [kernel_sizes]\n",
        "\n",
        "        if isinstance(strides, (list, tuple)):\n",
        "            self.strides = strides\n",
        "        else:\n",
        "            self.strides = list(range(1, strides))\n",
        "\n",
        "        self.emb = nn.Embedding(self.voc_size, self.emb_dim)\n",
        "        self.conv = nn.ModuleList([nn.Conv1d(self.emb_dim, 1, \n",
        "                                  kernel_size=kernel_size, stride=stride) \n",
        "                                  for kernel_size, stride in \n",
        "                                  product(self.kernel_sizes, self.strides)])\n",
        "        self.tanh = nn.Tanh()\n",
        "        self.dropout = nn.Dropout(self.p)\n",
        "        self.fc = nn.Linear(len(self.conv), 2)\n",
        "        \n",
        "        \n",
        "    def forward(self, x):\n",
        "        x = self.emb(x).permute(0, 2, 1)\n",
        "        new_x = [self.tanh(conv(x)).max(dim=-1)[0].squeeze().unsqueeze(dim=-1) for conv in self.conv]\n",
        "        x = torch.cat(new_x, dim=-1)\n",
        "        x = self.dropout(x)\n",
        "        logit = self.fc(x)\n",
        "        return logit"
      ],
      "execution_count": 0,
      "outputs": []
    },
    {
      "cell_type": "code",
      "metadata": {
        "id": "zbhxchYNmLg2",
        "colab_type": "code",
        "colab": {}
      },
      "source": [
        "kernel_sizes = [3,4,5,6]\n",
        "vocab_size = len(TEXT.vocab)\n",
        "dim = 300\n",
        "\n",
        "model1 = CNNUPD(vocab_size, dim, kernel_sizes, strides=5)"
      ],
      "execution_count": 0,
      "outputs": []
    },
    {
      "cell_type": "code",
      "metadata": {
        "id": "NrbF3ltmpWHa",
        "colab_type": "code",
        "outputId": "28e17209-0d56-491d-fd0b-a67014037b35",
        "colab": {
          "base_uri": "https://localhost:8080/",
          "height": 425
        }
      },
      "source": [
        "model1.cuda()"
      ],
      "execution_count": 85,
      "outputs": [
        {
          "output_type": "execute_result",
          "data": {
            "text/plain": [
              "CNNUPD(\n",
              "  (emb): Embedding(201052, 300)\n",
              "  (conv): ModuleList(\n",
              "    (0): Conv1d(300, 1, kernel_size=(3,), stride=(1,))\n",
              "    (1): Conv1d(300, 1, kernel_size=(3,), stride=(2,))\n",
              "    (2): Conv1d(300, 1, kernel_size=(3,), stride=(3,))\n",
              "    (3): Conv1d(300, 1, kernel_size=(3,), stride=(4,))\n",
              "    (4): Conv1d(300, 1, kernel_size=(4,), stride=(1,))\n",
              "    (5): Conv1d(300, 1, kernel_size=(4,), stride=(2,))\n",
              "    (6): Conv1d(300, 1, kernel_size=(4,), stride=(3,))\n",
              "    (7): Conv1d(300, 1, kernel_size=(4,), stride=(4,))\n",
              "    (8): Conv1d(300, 1, kernel_size=(5,), stride=(1,))\n",
              "    (9): Conv1d(300, 1, kernel_size=(5,), stride=(2,))\n",
              "    (10): Conv1d(300, 1, kernel_size=(5,), stride=(3,))\n",
              "    (11): Conv1d(300, 1, kernel_size=(5,), stride=(4,))\n",
              "    (12): Conv1d(300, 1, kernel_size=(6,), stride=(1,))\n",
              "    (13): Conv1d(300, 1, kernel_size=(6,), stride=(2,))\n",
              "    (14): Conv1d(300, 1, kernel_size=(6,), stride=(3,))\n",
              "    (15): Conv1d(300, 1, kernel_size=(6,), stride=(4,))\n",
              "  )\n",
              "  (tanh): Tanh()\n",
              "  (dropout): Dropout(p=0.5, inplace=False)\n",
              "  (fc): Linear(in_features=16, out_features=2, bias=True)\n",
              ")"
            ]
          },
          "metadata": {
            "tags": []
          },
          "execution_count": 85
        }
      ]
    },
    {
      "cell_type": "code",
      "metadata": {
        "id": "KSUrOz7Bp3Rc",
        "colab_type": "code",
        "colab": {}
      },
      "source": [
        "from math import floor\n",
        "\n",
        "class SLTR:\n",
        "    def __init__(self, training_iterations, cut_frac=0.1, ratio=32):\n",
        "        self.training_iterations = training_iterations\n",
        "        self.cut_frac = cut_frac\n",
        "        self.ratio = ratio\n",
        "        self.cut = floor(training_iterations * cut_frac)\n",
        "    \n",
        "    def __call__(self, it):\n",
        "        if it < self.cut:\n",
        "            p = it / self.cut\n",
        "        else:\n",
        "            p = 1 - (it - self.cut) / (self.cut * (1 / self.cut_frac - 1))\n",
        "        return (1 + p * (self.ratio - 1)) / self.ratio"
      ],
      "execution_count": 0,
      "outputs": []
    },
    {
      "cell_type": "code",
      "metadata": {
        "id": "vCIvLNTDqEVP",
        "colab_type": "code",
        "colab": {}
      },
      "source": [
        "epochs=30"
      ],
      "execution_count": 0,
      "outputs": []
    },
    {
      "cell_type": "code",
      "metadata": {
        "id": "LPlu7r8iqIPd",
        "colab_type": "code",
        "colab": {}
      },
      "source": [
        "scheduler_func = SLTR(epochs * len(train_iter))\n",
        "opt = optim.Adam(model1.parameters(), lr=0.001)\n",
        "scheduler = optim.lr_scheduler.LambdaLR(opt, lambda e: scheduler_func(e))\n",
        "loss_func = nn.CrossEntropyLoss()"
      ],
      "execution_count": 0,
      "outputs": []
    },
    {
      "cell_type": "code",
      "metadata": {
        "id": "PKW1eeRzqLbv",
        "colab_type": "code",
        "colab": {
          "base_uri": "https://localhost:8080/",
          "height": 153
        },
        "outputId": "caf9e7df-bbb6-4d35-a947-8585e72f5129"
      },
      "source": [
        "import datetime\n",
        "\n",
        "epoch_losses1 = []\n",
        "val_losses1 = []\n",
        "\n",
        "\n",
        "for epoch in range(epochs):\n",
        "    running_loss = 0.0\n",
        "    running_corrects = 0\n",
        "    model1.train() \n",
        "    for idx, batch in enumerate(train_iter): \n",
        "        x = batch.text\n",
        "        y = batch.label\n",
        "        \n",
        "        opt.zero_grad()\n",
        "        preds = model1(x).squeeze()\n",
        "        loss = loss_func(preds, y)\n",
        "        loss.backward()\n",
        "\n",
        "        opt.step()\n",
        "        scheduler.step()\n",
        "        running_loss += loss.item()\n",
        "            \n",
        "    epoch_loss = running_loss / len(train_iter)\n",
        "    \n",
        "    val_loss = 0.0\n",
        "    model1.eval()\n",
        "    for batch in val_iter:\n",
        "        x = batch.text\n",
        "        y = batch.label\n",
        "        \n",
        "        preds = model1(x).squeeze()\n",
        "        loss = loss_func(preds, y)\n",
        "        val_loss += loss.item()\n",
        "        \n",
        "    val_loss /= len(val_iter)\n",
        "    \n",
        "    val_losses1.append(val_loss)\n",
        "    epoch_losses1.append(epoch_loss)\n",
        "    \n",
        "    if epoch > 5 and sum(val_losses1[-3:]) / 3 > sum(val_losses1[-5:]) / 5:\n",
        "      break\n",
        "\n",
        "    print(epoch, datetime.datetime.now())"
      ],
      "execution_count": 89,
      "outputs": [
        {
          "output_type": "stream",
          "text": [
            "0 2020-03-29 13:21:46.853266\n",
            "1 2020-03-29 13:24:08.387429\n",
            "2 2020-03-29 13:26:29.797798\n",
            "3 2020-03-29 13:28:51.078202\n",
            "4 2020-03-29 13:31:12.466713\n",
            "5 2020-03-29 13:33:33.578524\n",
            "6 2020-03-29 13:35:54.961584\n",
            "7 2020-03-29 13:38:16.207081\n"
          ],
          "name": "stdout"
        }
      ]
    },
    {
      "cell_type": "code",
      "metadata": {
        "colab_type": "code",
        "outputId": "aec8e295-02cf-4abe-ec5d-6f0993b8757f",
        "id": "gXLhMlScJihR",
        "colab": {
          "base_uri": "https://localhost:8080/",
          "height": 282
        }
      },
      "source": [
        "plt.plot(range(len(epoch_losses1)), epoch_losses1, label='train error')\n",
        "plt.plot(range(len(val_losses1)), val_losses1, label='val error')\n",
        "plt.legend()"
      ],
      "execution_count": 90,
      "outputs": [
        {
          "output_type": "execute_result",
          "data": {
            "text/plain": [
              "<matplotlib.legend.Legend at 0x7f1240d03fd0>"
            ]
          },
          "metadata": {
            "tags": []
          },
          "execution_count": 90
        },
        {
          "output_type": "display_data",
          "data": {
            "image/png": "[encoded data removed]",
            "text/plain": [
              "<Figure size 432x288 with 1 Axes>"
            ]
          },
          "metadata": {
            "tags": []
          }
        }
      ]
    },
    {
      "cell_type": "code",
      "metadata": {
        "id": "T4KDyELKqX6j",
        "colab_type": "code",
        "colab": {}
      },
      "source": [
        "batch_size = 8\n",
        "accuracy1 = 0\n",
        "true_positive1 = 0\n",
        "false_negative1 = 0\n",
        "false_positive1 = 0\n",
        "\n",
        "model1.eval()\n",
        "\n",
        "for batch in test_iter:\n",
        "    x = batch.text\n",
        "    y = batch.label\n",
        "    \n",
        "    preds = model1(x)\n",
        "    preds = preds.argmax(dim=-1)\n",
        "    \n",
        "    accuracy1 += (preds == y).sum()\n",
        "    true_positive1 += ((preds == y) * y * preds).sum()\n",
        "    false_positive1 += ((preds != y) * (1 - y) * preds).sum()\n",
        "    false_negative1 += ((preds != y) * y * (1 - preds)).sum()"
      ],
      "execution_count": 0,
      "outputs": []
    },
    {
      "cell_type": "code",
      "metadata": {
        "id": "8dX41UIUqZBe",
        "colab_type": "code",
        "colab": {}
      },
      "source": [
        "accuracy1 = accuracy1.item()\n",
        "true_positive1 = true_positive1.item()\n",
        "false_positive1 = false_positive1.item()\n",
        "false_negative1 = false_negative1.item()"
      ],
      "execution_count": 0,
      "outputs": []
    },
    {
      "cell_type": "code",
      "metadata": {
        "id": "PvyppuDrqb35",
        "colab_type": "code",
        "colab": {}
      },
      "source": [
        "accuracy1 = accuracy1 / batch_size / len(test_iter) * 100\n",
        "precision1 = true_positive1 / (true_positive1 + false_positive1)\n",
        "recall1 = true_positive1 / (true_positive1 + false_negative1)"
      ],
      "execution_count": 0,
      "outputs": []
    },
    {
      "cell_type": "code",
      "metadata": {
        "id": "uO3RROUeqc4t",
        "colab_type": "code",
        "colab": {
          "base_uri": "https://localhost:8080/",
          "height": 85
        },
        "outputId": "609d3581-597a-4f30-e23b-c867b6064d04"
      },
      "source": [
        "print('Accuracy {}%'.format(round(accuracy1, 4)))\n",
        "print('Precision {}'.format(round(precision1, 4)))\n",
        "print('Recall {}'. format(round(recall1, 4)))\n",
        "print('F1 {}'.format(round(2 * precision1 * recall1 / (precision1 + recall1), 4)))"
      ],
      "execution_count": 96,
      "outputs": [
        {
          "output_type": "stream",
          "text": [
            "Accuracy 76.92%\n",
            "Precision 0.7622\n",
            "Recall 0.7825\n",
            "F1 0.7722\n"
          ],
          "name": "stdout"
        }
      ]
    },
    {
      "cell_type": "markdown",
      "metadata": {
        "id": "L_15Y2ushxFd",
        "colab_type": "text"
      },
      "source": [
        "## We've improved our accuracy - it's 1,5% better now!"
      ]
    }
  ]
}