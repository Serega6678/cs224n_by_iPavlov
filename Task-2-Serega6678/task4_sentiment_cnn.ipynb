{
  "nbformat": 4,
  "nbformat_minor": 0,
  "metadata": {
    "kernelspec": {
      "name": "python3",
      "display_name": "Python 3"
    },
    "language_info": {
      "codemirror_mode": {
        "name": "ipython",
        "version": 3
      },
      "file_extension": ".py",
      "mimetype": "text/x-python",
      "name": "python",
      "nbconvert_exporter": "python",
      "pygments_lexer": "ipython3",
      "version": "3.7.4"
    },
    "colab": {
      "name": "task4_sentiment_cnn.ipynb",
      "provenance": [],
      "collapsed_sections": []
    },
    "accelerator": "GPU"
  },
  "cells": [
    {
      "cell_type": "markdown",
      "metadata": {
        "id": "J27_tMzgkygO",
        "colab_type": "text"
      },
      "source": [
        "## Assignment 2.4: Text classification via CNN (20 points)"
      ]
    },
    {
      "cell_type": "markdown",
      "metadata": {
        "id": "lxQfvZzrkygT",
        "colab_type": "text"
      },
      "source": [
        "In this assignment you should perform sentiment analysis of the IMDB reviews based on CNN architecture. Read carefully [Convolutional Neural Networks for Sentence Classification](https://arxiv.org/pdf/1408.5882.pdf) by Yoon Kim."
      ]
    },
    {
      "cell_type": "code",
      "metadata": {
        "id": "7lvo7KqxkygW",
        "colab_type": "code",
        "colab": {}
      },
      "source": [
        "import numpy as np\n",
        "import torch\n",
        "\n",
        "import torch.nn as nn\n",
        "import torch.nn.functional as F\n",
        "import torch.optim as optim\n",
        "\n",
        "from torchtext import datasets\n",
        "from torchtext.data import Field, LabelField\n",
        "from torchtext.data import Iterator\n",
        "\n",
        "device='cuda'"
      ],
      "execution_count": 0,
      "outputs": []
    },
    {
      "cell_type": "markdown",
      "metadata": {
        "id": "YiYzQlZAkygi",
        "colab_type": "text"
      },
      "source": [
        "### Preparing Data"
      ]
    },
    {
      "cell_type": "code",
      "metadata": {
        "id": "gMK8x2zAkygk",
        "colab_type": "code",
        "colab": {}
      },
      "source": [
        "TEXT = Field(sequential=True, lower=True, batch_first=True)\n",
        "LABEL = LabelField(batch_first=True)"
      ],
      "execution_count": 0,
      "outputs": []
    },
    {
      "cell_type": "code",
      "metadata": {
        "id": "jgxjiULPkygz",
        "colab_type": "code",
        "colab": {
          "base_uri": "https://localhost:8080/",
          "height": 51
        },
        "outputId": "ce65b9b8-4f34-4518-9ec0-e563ac457faf"
      },
      "source": [
        "train, tst = datasets.IMDB.splits(TEXT, LABEL)\n",
        "trn, vld = train.split()"
      ],
      "execution_count": 3,
      "outputs": [
        {
          "output_type": "stream",
          "text": [
            "downloading aclImdb_v1.tar.gz\n"
          ],
          "name": "stdout"
        },
        {
          "output_type": "stream",
          "text": [
            "aclImdb_v1.tar.gz: 100%|██████████| 84.1M/84.1M [00:08<00:00, 10.4MB/s]\n"
          ],
          "name": "stderr"
        }
      ]
    },
    {
      "cell_type": "code",
      "metadata": {
        "id": "OOvd7yjakyhP",
        "colab_type": "code",
        "colab": {}
      },
      "source": [
        "LABEL.build_vocab(trn)"
      ],
      "execution_count": 0,
      "outputs": []
    },
    {
      "cell_type": "markdown",
      "metadata": {
        "id": "KBy7OQ3lkyhh",
        "colab_type": "text"
      },
      "source": [
        "### Creating the Iterator (2 points)"
      ]
    },
    {
      "cell_type": "markdown",
      "metadata": {
        "id": "MQF9A9Xbkyhj",
        "colab_type": "text"
      },
      "source": [
        "Define an iterator here"
      ]
    },
    {
      "cell_type": "code",
      "metadata": {
        "id": "achBZU5Hkyhk",
        "colab_type": "code",
        "colab": {}
      },
      "source": [
        "train_iter, val_iter, test_iter = Iterator.splits(\n",
        "        (trn, vld, tst),\n",
        "        batch_sizes=(64, 64, 64),\n",
        "        sort=False,\n",
        "        sort_key=lambda x: len(x),\n",
        "        sort_within_batch=False,\n",
        "        device='cuda',\n",
        "        repeat=False\n",
        ")"
      ],
      "execution_count": 0,
      "outputs": []
    },
    {
      "cell_type": "markdown",
      "metadata": {
        "id": "E-i3a2Mlkyhv",
        "colab_type": "text"
      },
      "source": [
        "### Define CNN-based text classification model (8 points)"
      ]
    },
    {
      "cell_type": "code",
      "metadata": {
        "id": "MdAvGgTYkyh6",
        "colab_type": "code",
        "colab": {}
      },
      "source": [
        "class CNN(nn.Module):\n",
        "    def __init__(self, V, D, kernel_sizes, batch_size=64, dropout=0.5):\n",
        "        super(CNN, self).__init__()\n",
        "        \n",
        "        self.emb_dim = D\n",
        "        self.voc_size = V\n",
        "        self.p = dropout\n",
        "        self.batch_size = batch_size\n",
        "        self.kernel_sizes = kernel_sizes\n",
        "        \n",
        "        self.emb = nn.Embedding(self.voc_size, self.emb_dim)\n",
        "        self.conv1 = nn.Conv1d(self.emb_dim, 1, kernel_size=kernel_sizes[0])\n",
        "        self.conv2 = nn.Conv1d(self.emb_dim, 1, kernel_sizes[1])\n",
        "        self.conv3 = nn.Conv1d(self.emb_dim, 1, kernel_sizes[2])\n",
        "        self.tanh = nn.Tanh()\n",
        "        self.dropout = nn.Dropout(self.p)\n",
        "        self.fc = nn.Linear(3, 2)\n",
        "        \n",
        "        \n",
        "    def forward(self, x):\n",
        "        x = self.emb(x).permute(0, 2, 1)\n",
        "        x1 = self.tanh(self.conv1(x))\n",
        "        x2 = self.tanh(self.conv2(x))\n",
        "        x3 = self.tanh(self.conv3(x))\n",
        "        \n",
        "        x1 = x1.max(dim=-1)[0].squeeze().unsqueeze(dim=-1)\n",
        "        x2 = x2.max(dim=-1)[0].squeeze().unsqueeze(dim=-1)\n",
        "        x3 = x3.max(dim=-1)[0].squeeze().unsqueeze(dim=-1)\n",
        "        \n",
        "        x = torch.cat([x1, x2, x3], dim=-1)\n",
        "        \n",
        "        x = self.dropout(x)\n",
        "        logit = self.fc(x)\n",
        "        return logit"
      ],
      "execution_count": 0,
      "outputs": []
    },
    {
      "cell_type": "code",
      "metadata": {
        "id": "u4amWJEWkyiD",
        "colab_type": "code",
        "colab": {}
      },
      "source": [
        "kernel_sizes = [3,4,5]\n",
        "vocab_size = len(TEXT.vocab)\n",
        "dropout = 0.5\n",
        "dim = 300\n",
        "\n",
        "model = CNN(vocab_size, dim, kernel_sizes)"
      ],
      "execution_count": 0,
      "outputs": []
    },
    {
      "cell_type": "code",
      "metadata": {
        "id": "9urFlh9Bk_Nt",
        "colab_type": "code",
        "colab": {
          "base_uri": "https://localhost:8080/",
          "height": 170
        },
        "outputId": "3d8f46f1-08b0-4015-bfc0-1fe10a788fa4"
      },
      "source": [
        "model.cuda()"
      ],
      "execution_count": 82,
      "outputs": [
        {
          "output_type": "execute_result",
          "data": {
            "text/plain": [
              "CNN(\n",
              "  (emb): Embedding(202189, 300)\n",
              "  (conv1): Conv1d(300, 1, kernel_size=(3,), stride=(1,))\n",
              "  (conv2): Conv1d(300, 1, kernel_size=(4,), stride=(1,))\n",
              "  (conv3): Conv1d(300, 1, kernel_size=(5,), stride=(1,))\n",
              "  (tanh): Tanh()\n",
              "  (dropout): Dropout(p=0.5, inplace=False)\n",
              "  (fc): Linear(in_features=3, out_features=2, bias=True)\n",
              ")"
            ]
          },
          "metadata": {
            "tags": []
          },
          "execution_count": 82
        }
      ]
    },
    {
      "cell_type": "markdown",
      "metadata": {
        "id": "YlolKExrkyiw",
        "colab_type": "text"
      },
      "source": [
        "### The training loop (3 points)"
      ]
    },
    {
      "cell_type": "markdown",
      "metadata": {
        "id": "VQPLnmemkyiz",
        "colab_type": "text"
      },
      "source": [
        "Define the optimization function and the loss functions."
      ]
    },
    {
      "cell_type": "code",
      "metadata": {
        "id": "xNnzTdBgkyi1",
        "colab_type": "code",
        "colab": {}
      },
      "source": [
        "opt = optim.Adam(model.parameters(), lr=1e-3)\n",
        "loss_func = nn.CrossEntropyLoss()"
      ],
      "execution_count": 0,
      "outputs": []
    },
    {
      "cell_type": "markdown",
      "metadata": {
        "id": "revIolY0kyjC",
        "colab_type": "text"
      },
      "source": [
        "Think carefully about the stopping criteria. "
      ]
    },
    {
      "cell_type": "code",
      "metadata": {
        "id": "1L1DomFEkyjE",
        "colab_type": "code",
        "colab": {}
      },
      "source": [
        "#sample model\n",
        "epochs = 250"
      ],
      "execution_count": 0,
      "outputs": []
    },
    {
      "cell_type": "code",
      "metadata": {
        "pixiedust": {
          "displayParams": {}
        },
        "id": "9A8akJNTkyjO",
        "colab_type": "code",
        "colab": {}
      },
      "source": [
        "epoch_losses = []\n",
        "val_losses = []\n",
        "\n",
        "for epoch in range(1, epochs + 1):\n",
        "    running_loss = 0.0\n",
        "    running_corrects = 0\n",
        "    model.train() \n",
        "    for idx, batch in enumerate(train_iter):         \n",
        "        \n",
        "        x = batch.text.to(device)\n",
        "        y = batch.label.to(device)\n",
        "        \n",
        "        opt.zero_grad()\n",
        "        preds = model(x)\n",
        "        loss = loss_func(preds, y)\n",
        "        loss.backward()\n",
        "        opt.step()\n",
        "        running_loss += loss.item()\n",
        "        \n",
        "    epoch_loss = running_loss / len(train_iter)\n",
        "    \n",
        "    val_loss = 0.0\n",
        "    model.eval()\n",
        "    correct = 0\n",
        "    total = 0 \n",
        "    for batch in val_iter:\n",
        "        \n",
        "        x = batch.text.to(device)\n",
        "        y = batch.label.to(device)\n",
        "        \n",
        "        preds = model(x)\n",
        "        loss = loss_func(preds, y)\n",
        "        val_loss += loss.item()\n",
        "        \n",
        "    val_loss /= len(val_iter)\n",
        "\n",
        "    if epoch > 10 and sum(val_losses[-5:]) / 5 > sum(val_losses[-10:]) / 10:\n",
        "      break\n",
        "    \n",
        "    epoch_losses.append(epoch_loss)\n",
        "    val_losses.append(val_loss)"
      ],
      "execution_count": 0,
      "outputs": []
    },
    {
      "cell_type": "code",
      "metadata": {
        "id": "bKgBg6h2rBnz",
        "colab_type": "code",
        "colab": {
          "base_uri": "https://localhost:8080/",
          "height": 282
        },
        "outputId": "ab8eed90-df0f-4887-f834-518721401315"
      },
      "source": [
        "from matplotlib import pyplot as plt\n",
        "\n",
        "plt.plot(range(len(epoch_losses)), epoch_losses, label='train error')\n",
        "plt.plot(range(len(val_losses)), val_losses, label='val error')"
      ],
      "execution_count": 87,
      "outputs": [
        {
          "output_type": "execute_result",
          "data": {
            "text/plain": [
              "[<matplotlib.lines.Line2D at 0x7ff358801860>]"
            ]
          },
          "metadata": {
            "tags": []
          },
          "execution_count": 87
        },
        {
          "output_type": "display_data",
          "data": {
            "image/png": "[encoded data removed]",
            "text/plain": [
              "<Figure size 432x288 with 1 Axes>"
            ]
          },
          "metadata": {
            "tags": []
          }
        }
      ]
    },
    {
      "cell_type": "markdown",
      "metadata": {
        "id": "Hw7FgSQGkyjY",
        "colab_type": "text"
      },
      "source": [
        "### Calculate performance of the trained model (2 points)"
      ]
    },
    {
      "cell_type": "code",
      "metadata": {
        "id": "UfVS3vBhkyja",
        "colab_type": "code",
        "colab": {}
      },
      "source": [
        "batch_size = 64\n",
        "accuracy = 0\n",
        "true_positive = 0\n",
        "false_negative = 0\n",
        "false_positive = 0\n",
        "\n",
        "model.eval()\n",
        "\n",
        "for batch in test_iter:\n",
        "    x = batch.text.to(device)\n",
        "    y = batch.label.to(device)\n",
        "    \n",
        "    preds = model(x)\n",
        "    preds = preds.argmax(dim=-1)\n",
        "    \n",
        "    accuracy += (preds == y).sum()\n",
        "    true_positive += ((preds == y) * y * preds).sum()\n",
        "    false_positive += ((preds != y) * (1 - y) * preds).sum()\n",
        "    false_negative += ((preds != y) * y * (1 - preds)).sum()"
      ],
      "execution_count": 0,
      "outputs": []
    },
    {
      "cell_type": "code",
      "metadata": {
        "id": "RrvT6mZVOOGX",
        "colab_type": "code",
        "colab": {}
      },
      "source": [
        "accuracy = accuracy.item()\n",
        "true_positive = true_positive.item()\n",
        "false_positive = false_positive.item()\n",
        "false_negative = false_negative.item()"
      ],
      "execution_count": 0,
      "outputs": []
    },
    {
      "cell_type": "code",
      "metadata": {
        "id": "CKyuELBaOQfX",
        "colab_type": "code",
        "colab": {}
      },
      "source": [
        "accuracy = accuracy / batch_size / len(test_iter) * 100\n",
        "precision = true_positive / (true_positive + false_positive)\n",
        "recall = true_positive / (true_positive + false_negative)"
      ],
      "execution_count": 0,
      "outputs": []
    },
    {
      "cell_type": "code",
      "metadata": {
        "id": "A84lhXQJORRT",
        "colab_type": "code",
        "colab": {
          "base_uri": "https://localhost:8080/",
          "height": 85
        },
        "outputId": "53d3fcc7-2962-4a6b-8f6f-400b5a23f9c2"
      },
      "source": [
        "print('Accuracy {}%'.format(round(accuracy, 4)))\n",
        "print('Precision {}'.format(round(precision, 4)))\n",
        "print('Recall {}'. format(round(recall, 4)))\n",
        "print('F1 {}'.format(round(2 * precision * recall / (precision + recall), 4)))"
      ],
      "execution_count": 93,
      "outputs": [
        {
          "output_type": "stream",
          "text": [
            "Accuracy 69.6691%\n",
            "Precision 0.7277\n",
            "Recall 0.6307\n",
            "F1 0.6758\n"
          ],
          "name": "stdout"
        }
      ]
    },
    {
      "cell_type": "markdown",
      "metadata": {
        "id": "VkHD2tJMkyjo",
        "colab_type": "text"
      },
      "source": [
        "### Experiments (5 points)\n",
        "\n",
        "Experiment with the model and achieve better results. Implement and describe your experiments in details, mention what was helpful."
      ]
    },
    {
      "cell_type": "markdown",
      "metadata": {
        "id": "L1n12nwdkyjr",
        "colab_type": "text"
      },
      "source": [
        "### 1. ?\n",
        "### 2. ?\n",
        "### 3. ?"
      ]
    }
  ]
}