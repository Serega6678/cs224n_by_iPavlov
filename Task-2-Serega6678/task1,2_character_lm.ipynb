{
 "cells": [
  {
   "cell_type": "markdown",
   "metadata": {},
   "source": [
    "# Assignment 2. Language modeling.\n",
    "\n",
    "This task is devoted to language modeling. Its goal is to write in PyTorch an RNN-based language model. Since word-based language modeling requires long training and is memory-consuming due to large vocabulary, we start with character-based language modeling. We are going to train the model to generate words as sequence of characters. During training we teach it to predict characters of the words in the training set.\n",
    "\n",
    "\n",
    "\n",
    "## Task 1. Character-based language modeling: data preparation (15 points)."
   ]
  },
  {
   "cell_type": "markdown",
   "metadata": {},
   "source": [
    "We train the language models on the materials of **Sigmorphon 2018 Shared Task**. First, download the Russian datasets."
   ]
  },
  {
   "cell_type": "code",
   "execution_count": 1,
   "metadata": {
    "scrolled": false
   },
   "outputs": [
    {
     "name": "stdout",
     "output_type": "stream",
     "text": [
      "--2020-03-28 13:25:25--  https://raw.githubusercontent.com/sigmorphon/conll2018/master/task1/surprise/russian-train-high\n",
      "Распознаётся raw.githubusercontent.com (raw.githubusercontent.com)… 151.101.244.133\n",
      "Подключение к raw.githubusercontent.com (raw.githubusercontent.com)|151.101.244.133|:443... соединение установлено.\n",
      "HTTP-запрос отправлен. Ожидание ответа… 200 OK\n",
      "Длина: 533309 (521K) [text/plain]\n",
      "Сохранение в: «russian-train-high»\n",
      "\n",
      "russian-train-high  100%[===================>] 520,81K  1,63MB/s    за 0,3s    \n",
      "\n",
      "2020-03-28 13:25:26 (1,63 MB/s) - «russian-train-high» сохранён [533309/533309]\n",
      "\n",
      "--2020-03-28 13:25:27--  https://raw.githubusercontent.com/sigmorphon/conll2018/master/task1/surprise/russian-dev\n",
      "Распознаётся raw.githubusercontent.com (raw.githubusercontent.com)… 151.101.244.133\n",
      "Подключение к raw.githubusercontent.com (raw.githubusercontent.com)|151.101.244.133|:443... соединение установлено.\n",
      "HTTP-запрос отправлен. Ожидание ответа… 200 OK\n",
      "Длина: 53671 (52K) [text/plain]\n",
      "Сохранение в: «russian-dev»\n",
      "\n",
      "russian-dev         100%[===================>]  52,41K  --.-KB/s    за 0,06s   \n",
      "\n",
      "2020-03-28 13:25:27 (878 KB/s) - «russian-dev» сохранён [53671/53671]\n",
      "\n",
      "--2020-03-28 13:25:27--  https://raw.githubusercontent.com/sigmorphon/conll2018/master/task1/surprise/russian-test\n",
      "Распознаётся raw.githubusercontent.com (raw.githubusercontent.com)… 151.101.244.133\n",
      "Подключение к raw.githubusercontent.com (raw.githubusercontent.com)|151.101.244.133|:443... соединение установлено.\n",
      "HTTP-запрос отправлен. Ожидание ответа… 200 OK\n",
      "Длина: 53514 (52K) [text/plain]\n",
      "Сохранение в: «russian-test»\n",
      "\n",
      "russian-test        100%[===================>]  52,26K  --.-KB/s    за 0,05s   \n",
      "\n",
      "2020-03-28 13:25:28 (1,06 MB/s) - «russian-test» сохранён [53514/53514]\n",
      "\n"
     ]
    }
   ],
   "source": [
    "!wget https://raw.githubusercontent.com/sigmorphon/conll2018/master/task1/surprise/russian-train-high\n",
    "!wget https://raw.githubusercontent.com/sigmorphon/conll2018/master/task1/surprise/russian-dev\n",
    "!wget https://raw.githubusercontent.com/sigmorphon/conll2018/master/task1/surprise/russian-test"
   ]
  },
  {
   "cell_type": "markdown",
   "metadata": {},
   "source": [
    "**1.1 (1 points)**\n",
    "All the files contain tab-separated triples ```<lemma>-<form>-<tags>```, where ```<form>``` may contain spaces (*будете соответствовать*). Write a function that loads a list of all word forms, that do not contain spaces.  "
   ]
  },
  {
   "cell_type": "code",
   "execution_count": 2,
   "metadata": {},
   "outputs": [],
   "source": [
    "def read_infile(infile):\n",
    "    with open(infile, 'r') as fd:\n",
    "        text = list(map(lambda x: x.split('\\t'), fd.readlines()))\n",
    "    return [x[1].lower() for x in filter(lambda x: ' ' not in x[1], text)]"
   ]
  },
  {
   "cell_type": "code",
   "execution_count": 3,
   "metadata": {},
   "outputs": [
    {
     "name": "stdout",
     "output_type": "stream",
     "text": [
      "9213 917 922\n",
      "валлонскому незаконченным истрёпывав личного серьгам необоснованным тюти заросла идеальна гулкой\n"
     ]
    }
   ],
   "source": [
    "train_words = read_infile(\"russian-train-high\")\n",
    "dev_words = read_infile(\"russian-dev\")\n",
    "test_words = read_infile(\"russian-test\")\n",
    "print(len(train_words), len(dev_words), len(test_words))\n",
    "print(*train_words[:10])"
   ]
  },
  {
   "cell_type": "markdown",
   "metadata": {},
   "source": [
    "**1.2 (2 points)** Write a **Vocabulary** class that allows to transform symbols into their indexes. The class should have the method ```__call__``` that applies this transformation to sequences of symbols and batches of sequences as well. You can also use [SimpleVocabulary](https://github.com/deepmipt/DeepPavlov/blob/c10b079b972493220c82a643d47d718d5358c7f4/deeppavlov/core/data/simple_vocab.py#L31) from DeepPavlov. Fit an instance of this class on the training data."
   ]
  },
  {
   "cell_type": "code",
   "execution_count": 4,
   "metadata": {},
   "outputs": [
    {
     "name": "stderr",
     "output_type": "stream",
     "text": [
      "2020-03-28 13:25:31.140 WARNING in 'deeppavlov.core.models.serializable'['serializable'] at line 49: No load path is set for SimpleVocabulary in 'infer' mode. Using save path instead\n"
     ]
    },
    {
     "name": "stdout",
     "output_type": "stream",
     "text": [
      "37\n"
     ]
    }
   ],
   "source": [
    "from deeppavlov.core.data.simple_vocab import SimpleVocabulary\n",
    "\n",
    "vocab = SimpleVocabulary(special_tokens=[\"BEGIN\", \"END\", \"PAD\"], save_path='.')\n",
    "vocab.fit([list(x[5:-3]) for x in train_words])\n",
    "print(len(vocab))"
   ]
  },
  {
   "cell_type": "markdown",
   "metadata": {},
   "source": [
    "**1.3 (2 points)** Write a **Dataset** class, which should be inherited from ```torch.utils.data.Dataset```. It should take a list of words and the ```vocab``` as initialization arguments."
   ]
  },
  {
   "cell_type": "code",
   "execution_count": 5,
   "metadata": {},
   "outputs": [],
   "source": [
    "import torch\n",
    "from torch.utils.data import Dataset as TorchDataset\n",
    "\n",
    "class Dataset(TorchDataset):\n",
    "    \n",
    "    \"\"\"Custom data.Dataset compatible with data.DataLoader.\"\"\"\n",
    "    def __init__(self, data, vocab):\n",
    "        self.data = data\n",
    "        self.vocab = vocab\n",
    "\n",
    "    def __getitem__(self, idx):\n",
    "        \"\"\"\n",
    "        Returns one tensor pair (source and target). The source tensor corresponds to the input word,\n",
    "        with \"BEGIN\" and \"END\" symbols attached. The target tensor should contain the answers\n",
    "        for the language model that obtain these word as input.        \n",
    "        \"\"\"\n",
    "        return (torch.tensor(list(map(self.vocab, ['BEGIN', *[letter for letter in self.data[idx]]]))),\n",
    "                torch.tensor(list(map(self.vocab, [*[letter for letter in self.data[idx]], 'END']))))\n",
    "    \n",
    "    def __len__(self):\n",
    "        return len(self.data)"
   ]
  },
  {
   "cell_type": "code",
   "execution_count": 6,
   "metadata": {},
   "outputs": [],
   "source": [
    "train_dataset = Dataset(train_words, vocab)\n",
    "dev_dataset = Dataset(dev_words, vocab)\n",
    "test_dataset = Dataset(test_words, vocab)"
   ]
  },
  {
   "cell_type": "markdown",
   "metadata": {},
   "source": [
    "**1.4 (3 points)** Use a standard ```torch.utils.data.DataLoader``` to obtain an iterable over batches. Print the shape of first 10 input batches with ```batch_size=1```."
   ]
  },
  {
   "cell_type": "code",
   "execution_count": 7,
   "metadata": {},
   "outputs": [
    {
     "name": "stdout",
     "output_type": "stream",
     "text": [
      "torch.Size([1, 12])\n",
      "torch.Size([1, 12])\n",
      "tensor([[ 0,  9,  5, 11, 11,  7,  3, 10, 14,  7, 18, 17]])\n",
      "tensor([[ 9,  5, 11, 11,  7,  3, 10, 14,  7, 18, 17,  1]])\n",
      "\n",
      "torch.Size([1, 14])\n",
      "torch.Size([1, 14])\n",
      "tensor([[ 0,  3,  6, 19,  5, 14,  7,  3, 13,  6,  3,  3, 22, 18]])\n",
      "tensor([[ 3,  6, 19,  5, 14,  7,  3, 13,  6,  3,  3, 22, 18,  1]])\n",
      "\n",
      "torch.Size([1, 11])\n",
      "torch.Size([1, 11])\n",
      "tensor([[ 0,  4, 10,  8, 12, 28, 25, 22,  9,  5,  9]])\n",
      "tensor([[ 4, 10,  8, 12, 28, 25, 22,  9,  5,  9,  1]])\n",
      "\n",
      "torch.Size([1, 8])\n",
      "torch.Size([1, 8])\n",
      "tensor([[ 0, 11,  4, 13,  3,  7, 23,  7]])\n",
      "tensor([[11,  4, 13,  3,  7, 23,  7,  1]])\n",
      "\n",
      "torch.Size([1, 8])\n",
      "torch.Size([1, 8])\n",
      "tensor([[ 0, 10,  6, 12, 15, 23,  5, 18]])\n",
      "tensor([[10,  6, 12, 15, 23,  5, 18,  1]])\n",
      "\n",
      "torch.Size([1, 15])\n",
      "torch.Size([1, 15])\n",
      "tensor([[ 0,  3,  6,  7, 26,  7, 10,  3,  7,  9,  5,  3,  3, 22, 18]])\n",
      "tensor([[ 3,  6,  7, 26,  7, 10,  3,  7,  9,  5,  3,  3, 22, 18,  1]])\n",
      "\n",
      "torch.Size([1, 5])\n",
      "torch.Size([1, 5])\n",
      "tensor([[ 0,  8, 27,  8,  4]])\n",
      "tensor([[ 8, 27,  8,  4,  1]])\n",
      "\n",
      "torch.Size([1, 8])\n",
      "torch.Size([1, 8])\n",
      "tensor([[ 0, 19,  5, 12,  7, 10, 11,  5]])\n",
      "tensor([[19,  5, 12,  7, 10, 11,  5,  1]])\n",
      "\n",
      "torch.Size([1, 9])\n",
      "torch.Size([1, 9])\n",
      "tensor([[ 0,  4, 16,  6,  5, 11, 15,  3,  5]])\n",
      "tensor([[ 4, 16,  6,  5, 11, 15,  3,  5,  1]])\n",
      "\n",
      "torch.Size([1, 7])\n",
      "torch.Size([1, 7])\n",
      "tensor([[ 0, 23, 17, 11, 14,  7, 30]])\n",
      "tensor([[23, 17, 11, 14,  7, 30,  1]])\n",
      "\n"
     ]
    }
   ],
   "source": [
    "from torch.utils.data import DataLoader\n",
    "\n",
    "dataset = DataLoader(train_dataset, batch_size=1)\n",
    "for idx, (x, y) in enumerate(dataset):\n",
    "    if idx == 10:\n",
    "        break\n",
    "    print(x.shape, y.shape, x, y, sep='\\n')\n",
    "    print()"
   ]
  },
  {
   "cell_type": "markdown",
   "metadata": {},
   "source": [
    "**(1.5) 1 point** Explain, why this does not work with larger batch size."
   ]
  },
  {
   "cell_type": "markdown",
   "metadata": {},
   "source": [
    "Все элементы тензора должны иметь одинаковую размерность, а в нашем примере размерность зависит от размера слова, которая может различаться у элементов внутри тензора при batch_size > 1."
   ]
  },
  {
   "cell_type": "markdown",
   "metadata": {},
   "source": [
    "**(1.6) 5 points** Write a function **collate** that allows you to deal with batches of greater size. See [discussion](https://discuss.pytorch.org/t/dataloader-for-various-length-of-data/6418/8) for an example. Implement your function as a class ```__call__``` method to make it more flexible."
   ]
  },
  {
   "cell_type": "code",
   "execution_count": 8,
   "metadata": {},
   "outputs": [],
   "source": [
    "def pad_tensor(vec, length, dim, pad_symbol=2):\n",
    "    \"\"\"\n",
    "    Pads a vector ``vec`` up to length ``length`` along axis ``dim`` with pad symbol ``pad_symbol``.\n",
    "    \"\"\"\n",
    "    pad_size = list(vec.shape)\n",
    "    pad_size[dim] = length - vec.shape[dim]\n",
    "    return torch.cat([vec, torch.ones(*pad_size, dtype=torch.long) * pad_symbol], dim=dim)\n",
    "\n",
    "class Padder:\n",
    "    \n",
    "    def __init__(self, dim=0, pad_symbol=2, max_len=None):\n",
    "        self.dim = dim\n",
    "        self.pad_symbol = pad_symbol\n",
    "        self.max_len = max_len\n",
    "        \n",
    "    def __call__(self, batch):\n",
    "        if self.max_len is None:\n",
    "            max_len = max([x.shape[self.dim] for x, y in batch])\n",
    "        else:\n",
    "            max_len = self.max_len\n",
    "        batch = list(map(lambda x: \\\n",
    "                (pad_tensor(x[0], length=max_len, dim=self.dim, pad_symbol=self.pad_symbol), \n",
    "                 pad_tensor(x[1], length=max_len, dim=self.dim, pad_symbol=self.pad_symbol)), batch))\n",
    "        xs = torch.stack(tuple(map(lambda x: x[0], batch)))\n",
    "        ys = torch.stack(tuple(map(lambda x: x[1], batch)))\n",
    "        return (xs, ys)"
   ]
  },
  {
   "cell_type": "markdown",
   "metadata": {},
   "source": [
    "**(1.7) 1 points** Again, use ```torch.utils.data.DataLoader``` to obtain an iterable over batches. Print the shape of first 10 input batches with the batch size you like."
   ]
  },
  {
   "cell_type": "code",
   "execution_count": 9,
   "metadata": {},
   "outputs": [
    {
     "name": "stdout",
     "output_type": "stream",
     "text": [
      "torch.Size([2, 14])\n",
      "torch.Size([2, 14])\n",
      "tensor([[ 0,  9,  5, 11, 11,  7,  3, 10, 14,  7, 18, 17,  2,  2],\n",
      "        [ 0,  3,  6, 19,  5, 14,  7,  3, 13,  6,  3,  3, 22, 18]])\n",
      "tensor([[ 9,  5, 11, 11,  7,  3, 10, 14,  7, 18, 17,  1,  2,  2],\n",
      "        [ 3,  6, 19,  5, 14,  7,  3, 13,  6,  3,  3, 22, 18,  1]])\n",
      "\n",
      "torch.Size([2, 11])\n",
      "torch.Size([2, 11])\n",
      "tensor([[ 0,  4, 10,  8, 12, 28, 25, 22,  9,  5,  9],\n",
      "        [ 0, 11,  4, 13,  3,  7, 23,  7,  2,  2,  2]])\n",
      "tensor([[ 4, 10,  8, 12, 28, 25, 22,  9,  5,  9,  1],\n",
      "        [11,  4, 13,  3,  7, 23,  7,  1,  2,  2,  2]])\n",
      "\n",
      "torch.Size([2, 15])\n",
      "torch.Size([2, 15])\n",
      "tensor([[ 0, 10,  6, 12, 15, 23,  5, 18,  2,  2,  2,  2,  2,  2,  2],\n",
      "        [ 0,  3,  6,  7, 26,  7, 10,  3,  7,  9,  5,  3,  3, 22, 18]])\n",
      "tensor([[10,  6, 12, 15, 23,  5, 18,  1,  2,  2,  2,  2,  2,  2,  2],\n",
      "        [ 3,  6,  7, 26,  7, 10,  3,  7,  9,  5,  3,  3, 22, 18,  1]])\n",
      "\n",
      "torch.Size([2, 8])\n",
      "torch.Size([2, 8])\n",
      "tensor([[ 0,  8, 27,  8,  4,  2,  2,  2],\n",
      "        [ 0, 19,  5, 12,  7, 10, 11,  5]])\n",
      "tensor([[ 8, 27,  8,  4,  1,  2,  2,  2],\n",
      "        [19,  5, 12,  7, 10, 11,  5,  1]])\n",
      "\n",
      "torch.Size([2, 9])\n",
      "torch.Size([2, 9])\n",
      "tensor([[ 0,  4, 16,  6,  5, 11, 15,  3,  5],\n",
      "        [ 0, 23, 17, 11, 14,  7, 30,  2,  2]])\n",
      "tensor([[ 4, 16,  6,  5, 11, 15,  3,  5,  1],\n",
      "        [23, 17, 11, 14,  7, 30,  1,  2,  2]])\n",
      "\n",
      "torch.Size([2, 11])\n",
      "torch.Size([2, 11])\n",
      "tensor([[ 0, 11,  6, 10,  7, 25,  4, 11, 15,  3,  7],\n",
      "        [ 0, 19,  5, 12,  7, 10, 20,  6,  6,  2,  2]])\n",
      "tensor([[11,  6, 10,  7, 25,  4, 11, 15,  3,  7,  1],\n",
      "        [19,  5, 12,  7, 10, 20,  6,  6,  1,  2,  2]])\n",
      "\n",
      "torch.Size([2, 15])\n",
      "torch.Size([2, 15])\n",
      "tensor([[ 0, 26, 12,  7,  3,  6, 25,  7,  6, 19, 16,  6,  2,  2,  2],\n",
      "        [ 0, 25, 12,  7, 26, 11,  6, 18,  5,  8,  4, 13,  3, 22, 33]])\n",
      "tensor([[26, 12,  7,  3,  6, 25,  7,  6, 19, 16,  6,  1,  2,  2,  2],\n",
      "        [25, 12,  7, 26, 11,  6, 18,  5,  8,  4, 13,  3, 22, 33,  1]])\n",
      "\n",
      "torch.Size([2, 9])\n",
      "torch.Size([2, 9])\n",
      "tensor([[ 0,  8, 17, 20, 28,  3,  7,  6,  2],\n",
      "        [ 0,  8, 14,  3, 17, 11,  4, 10, 15]])\n",
      "tensor([[ 8, 17, 20, 28,  3,  7,  6,  1,  2],\n",
      "        [ 8, 14,  3, 17, 11,  4, 10, 15,  1]])\n",
      "\n",
      "torch.Size([2, 11])\n",
      "torch.Size([2, 11])\n",
      "tensor([[ 0, 10, 25,  5, 10,  4,  8,  6, 11,  4,  2],\n",
      "        [ 0, 14,  7, 10, 18,  7,  3,  5,  9,  8, 17]])\n",
      "tensor([[10, 25,  5, 10,  4,  8,  6, 11,  4,  1,  2],\n",
      "        [14,  7, 10, 18,  7,  3,  5,  9,  8, 17,  1]])\n",
      "\n",
      "torch.Size([2, 14])\n",
      "torch.Size([2, 14])\n",
      "tensor([[ 0, 12,  5, 10, 14, 11,  5,  3, 21,  9, 20,  4, 10, 15],\n",
      "        [ 0,  4, 10, 33,  7, 16,  5, 18,  4,  2,  2,  2,  2,  2]])\n",
      "tensor([[12,  5, 10, 14, 11,  5,  3, 21,  9, 20,  4, 10, 15,  1],\n",
      "        [ 4, 10, 33,  7, 16,  5, 18,  4,  1,  2,  2,  2,  2,  2]])\n",
      "\n"
     ]
    }
   ],
   "source": [
    "from torch.utils.data import DataLoader\n",
    "\n",
    "dataset = DataLoader(train_dataset, batch_size=2, collate_fn=Padder(dim=0))\n",
    "for idx, (x, y) in enumerate(dataset):\n",
    "    if idx == 10:\n",
    "        break\n",
    "    print(x.shape, y.shape, x, y, sep='\\n')\n",
    "    print()"
   ]
  },
  {
   "cell_type": "markdown",
   "metadata": {},
   "source": [
    "## Task 2. Character-based language modeling. (35 points)"
   ]
  },
  {
   "cell_type": "markdown",
   "metadata": {},
   "source": [
    "**2.1 (5 points)** Write a network that performs language modeling. It should include three layers:\n",
    "1. **Embedding** layer that transforms input symbols into vectors.\n",
    "2. An **RNN** layer that outputs a sequence of hidden states (you may use https://pytorch.org/docs/stable/nn.html#gru).\n",
    "3. A **Linear** layer with ``softmax`` activation that produces the output distribution for each symbol."
   ]
  },
  {
   "cell_type": "code",
   "execution_count": 10,
   "metadata": {},
   "outputs": [],
   "source": [
    "import torch.nn as nn\n",
    "\n",
    "class RNNLM(nn.Module):\n",
    "\n",
    "    def __init__(self, vocab_size, embeddings_dim, hidden_size, pad_symbol_id=2):\n",
    "        super(RNNLM, self).__init__()\n",
    "        self.hidden_size = hidden_size\n",
    "        self.embeddings_dim = embeddings_dim\n",
    "        self.pad_symbol_id = pad_symbol_id\n",
    "        self.vocab_size = vocab_size\n",
    "        \n",
    "        self.emb = nn.Embedding(vocab_size, embeddings_dim)\n",
    "        self.rnn = nn.GRU(embeddings_dim, hidden_size, batch_first=True)\n",
    "        self.fc = nn.Linear(hidden_size, vocab_size)\n",
    "        nn.init.kaiming_normal_(self.fc.weight)\n",
    "\n",
    "        \n",
    "    def forward(self, inputs, hidden=None):\n",
    "        if hidden is None:\n",
    "            hidden = self.init_hidden(inputs.shape)\n",
    "        out = self.emb(inputs)\n",
    "        out, h = self.rnn(out, hidden)\n",
    "        out = self.fc(out)\n",
    "        \n",
    "        # calculate loss without paddings\n",
    "        mask = (inputs == self.pad_symbol_id)\n",
    "        out[mask] = torch.zeros(self.vocab_size)\n",
    "        out[mask][:, self.pad_symbol_id] = 1\n",
    "        \n",
    "        return (out, h)\n",
    "    \n",
    "    def init_hidden(self, inputs_shape):\n",
    "        return torch.zeros(1, inputs_shape[0], self.embeddings_dim)"
   ]
  },
  {
   "cell_type": "markdown",
   "metadata": {},
   "source": [
    "**2.2 (1 points)** Write a function ``validate_on_batch`` that takes as input a model, a batch of inputs and a batch of outputs, and the loss criterion, and outputs the loss tensor for the whole batch. This loss should not be normalized."
   ]
  },
  {
   "cell_type": "code",
   "execution_count": 11,
   "metadata": {},
   "outputs": [],
   "source": [
    "device = 'cpu'\n",
    "\n",
    "def validate_on_batch(model, criterion, x, y):\n",
    "    x = x.to(device=device)\n",
    "    y = y.to(device=device)\n",
    "    pred, _ = model(x)\n",
    "    return criterion(pred.reshape(pred.shape[0] * pred.shape[1], -1), \n",
    "                     y.reshape(pred.shape[1] * pred.shape[0]))"
   ]
  },
  {
   "cell_type": "markdown",
   "metadata": {},
   "source": [
    "**2.3 (1 points)** Write a function ``train_on_batch`` that accepts all the arguments of ``validate_on_batch`` and also an optimizer, calculates loss and makes a single step of gradient optimization. This function should call ``validate_on_batch`` inside."
   ]
  },
  {
   "cell_type": "code",
   "execution_count": 12,
   "metadata": {},
   "outputs": [],
   "source": [
    "def train_on_batch(model, criterion, x, y, optimizer):\n",
    "    model.train()\n",
    "    optimizer.zero_grad()\n",
    "    loss = validate_on_batch(model, criterion, x, y)\n",
    "    loss.backward()\n",
    "    optimizer.step()\n",
    "    return np.mean(loss.item())"
   ]
  },
  {
   "cell_type": "markdown",
   "metadata": {},
   "source": [
    "**2.4 (3 points)** Write a training loop. You should define your ``RNNLM`` model, the criterion, the optimizer and the hyperparameters (number of epochs and batch size). Then train the model for a required number of epochs. On each epoch evaluate the average training loss and the average loss on the validation set. \n",
    "\n",
    "**2.5 (3 points)** Do not forget to average your loss over only non-padding symbols, otherwise it will be too optimistic."
   ]
  },
  {
   "cell_type": "markdown",
   "metadata": {},
   "source": [
    "### 2.5 implemented inside forward function!"
   ]
  },
  {
   "cell_type": "code",
   "execution_count": 13,
   "metadata": {},
   "outputs": [],
   "source": [
    "from matplotlib import pyplot as plt\n",
    "import numpy as np\n",
    "\n",
    "def plot_loss(train_loss, val_loss, interval=10):\n",
    "    train = [np.mean(train_loss[i * interval : (i + 1) * interval], axis=0) \\\n",
    "                for i in range((len(train_loss) - interval) // interval)]\n",
    "    val = [np.mean(val_loss[i * interval : (i + 1) * interval], axis=0) \\\n",
    "                for i in range((len(val_loss) - interval) // interval)]\n",
    "    plt.plot([a[0] for a in train], [a[1] for a in train], label='train')\n",
    "    plt.plot([a[0] for a in val], [a[1] for a in val], label='val')\n",
    "    plt.legend()"
   ]
  },
  {
   "cell_type": "code",
   "execution_count": 14,
   "metadata": {},
   "outputs": [],
   "source": [
    "from torch import optim\n",
    "\n",
    "num_epochs=31\n",
    "lr = 1e-1\n",
    "model = RNNLM(len(vocab), 30, 30)\n",
    "loss = nn.CrossEntropyLoss()\n",
    "optimizer = optim.SGD(model.parameters(), lr=lr, momentum=0.9)\n",
    "train_dataloader = DataLoader(train_dataset, batch_size=5, collate_fn=Padder(dim=0, pad_symbol=vocab(\"PAD\")))\n",
    "val_dataloader = DataLoader(dev_dataset, batch_size=5, collate_fn=Padder(dim=0, pad_symbol=vocab(\"PAD\")))"
   ]
  },
  {
   "cell_type": "code",
   "execution_count": 15,
   "metadata": {
    "pixiedust": {
     "displayParams": {}
    }
   },
   "outputs": [],
   "source": [
    "train_loss = []\n",
    "val_loss = []\n",
    "\n",
    "for e in range(num_epochs):\n",
    "    for idx, (x, y) in enumerate(train_dataloader):\n",
    "        train_loss.append((idx + e * len(train_dataloader), train_on_batch(model, loss, x, y, optimizer)))\n",
    "    for idx, (x, y) in enumerate(val_dataloader):\n",
    "        model.eval()\n",
    "        val_loss.append((idx * 10.016304347826088 + e * len(train_dataloader), \n",
    "                         validate_on_batch(model, loss, x, y)))"
   ]
  },
  {
   "cell_type": "code",
   "execution_count": 16,
   "metadata": {},
   "outputs": [
    {
     "data": {
      "image/png": "[encoded data removed]",
      "text/plain": [
       "<Figure size 432x288 with 1 Axes>"
      ]
     },
     "metadata": {
      "needs_background": "light"
     },
     "output_type": "display_data"
    }
   ],
   "source": [
    "plot_loss(train_loss, val_loss)"
   ]
  },
  {
   "cell_type": "markdown",
   "metadata": {},
   "source": [
    "**2.6 (5 points)** Write a function **predict_on_batch** that outputs letter probabilities of all words in the batch."
   ]
  },
  {
   "cell_type": "code",
   "execution_count": 17,
   "metadata": {},
   "outputs": [],
   "source": [
    "def predict_on_batch(model, batch, hidden=None, dim=-1):\n",
    "    model.eval()\n",
    "    batch = batch.to(device=device)\n",
    "    preds, hidden = model(batch, hidden)\n",
    "    sm = nn.Softmax(dim=dim)\n",
    "    return (sm(preds), hidden)"
   ]
  },
  {
   "cell_type": "markdown",
   "metadata": {},
   "source": [
    "**2.7 (1 points)** Calculate the letter probabilities for all words in the test dataset. Print them for 20 last words. Do not forget to disable shuffling in the ``DataLoader``."
   ]
  },
  {
   "cell_type": "code",
   "execution_count": 18,
   "metadata": {},
   "outputs": [],
   "source": [
    "max_len = max(map(lambda x: x[0].shape[-1], test_dataset))"
   ]
  },
  {
   "cell_type": "code",
   "execution_count": 19,
   "metadata": {},
   "outputs": [],
   "source": [
    "test_dataset_loader = DataLoader(test_dataset, shuffle=False, batch_size=5, \n",
    "                                 collate_fn=Padder(dim=0, max_len = max_len, pad_symbol=vocab(\"END\")))"
   ]
  },
  {
   "cell_type": "code",
   "execution_count": 20,
   "metadata": {
    "pixiedust": {
     "displayParams": {}
    },
    "scrolled": true
   },
   "outputs": [],
   "source": [
    "test_probabilities = None\n",
    "hidden = None\n",
    "\n",
    "for idx, (x, y) in enumerate(test_dataset_loader):\n",
    "    if idx == 0:\n",
    "        test_probabilities, hidden = predict_on_batch(model, x)\n",
    "    else:\n",
    "        hidden = hidden[:, :x.shape[0], :]\n",
    "        preds, hidden = predict_on_batch(model, x, hidden=hidden)\n",
    "        test_probabilities = torch.cat((test_probabilities, preds))"
   ]
  },
  {
   "cell_type": "markdown",
   "metadata": {},
   "source": [
    "Не вижу смысла выводить тензор размера (20, max_len, len(vocab)) - ничего не будет видно"
   ]
  },
  {
   "cell_type": "markdown",
   "metadata": {},
   "source": [
    "Лучше выведу вероятности для слова \"мама\":"
   ]
  },
  {
   "cell_type": "code",
   "execution_count": 21,
   "metadata": {
    "pixiedust": {
     "displayParams": {}
    }
   },
   "outputs": [
    {
     "name": "stdout",
     "output_type": "stream",
     "text": [
      "P(м) 0.031745024025440216\n",
      "P(а) 0.20663708448410034\n",
      "P(м) 0.048230819404125214\n",
      "P(а) 0.11165577173233032\n",
      "P(END) 0.018316099420189857\n"
     ]
    }
   ],
   "source": [
    "starting_state = torch.tensor([vocab(\"Begin\")])[None, :]\n",
    "m_state = torch.tensor([vocab(\"м\")])[None, :]\n",
    "a_state = torch.tensor([vocab(\"а\")])[None, :]\n",
    "hidden = None\n",
    "\n",
    "preds, hidden = predict_on_batch(model, starting_state, hidden)\n",
    "print(\"P(м) {}\".format(preds[0, 0, vocab(\"м\")]))\n",
    "\n",
    "preds, hidden = predict_on_batch(model, m_state, hidden)\n",
    "print(\"P(а) {}\".format(preds[0, 0, vocab(\"а\")]))\n",
    "\n",
    "preds, hidden = predict_on_batch(model, a_state, hidden)\n",
    "print(\"P(м) {}\".format(preds[0, 0, vocab(\"м\")]))\n",
    "\n",
    "preds, hidden = predict_on_batch(model, m_state, hidden)\n",
    "print(\"P(а) {}\".format(preds[0, 0, vocab(\"а\")]))\n",
    "\n",
    "preds, hidden = predict_on_batch(model, a_state, hidden)\n",
    "print(\"P(END) {}\".format(preds[0, 0, vocab(\"END\")]))"
   ]
  },
  {
   "cell_type": "markdown",
   "metadata": {},
   "source": [
    "**2.8 (5 points)** Write a function that generates a single word (sequence of indexes) given the model. Do not forget about the hidden state! Be careful about start and end symbol indexes. Use ``torch.multinomial`` for sampling."
   ]
  },
  {
   "cell_type": "code",
   "execution_count": 22,
   "metadata": {},
   "outputs": [],
   "source": [
    "def generate(model, max_length=20, start_index=0, end_index=1, pad_index=2):\n",
    "    model.eval()\n",
    "    prev_letter = start_index\n",
    "    word = []\n",
    "    hidden=None\n",
    "    \n",
    "    for i in range(max_length):\n",
    "        cur_idx = torch.tensor([prev_letter])[None, :]\n",
    "        preds, hidden = predict_on_batch(model, cur_idx, hidden)\n",
    "        prev_letter = torch.multinomial(preds.squeeze(), 1)\n",
    "        if prev_letter in [start_index, end_index, pad_index]:\n",
    "            return ''.join(word)\n",
    "        prev_letter = prev_letter.numpy()[0]\n",
    "        word.append(vocab(prev_letter))\n",
    "    return ''.join(word)"
   ]
  },
  {
   "cell_type": "markdown",
   "metadata": {},
   "source": [
    "**2.9 (1 points)** Use ``generate`` to sample 20 pseudowords. Do not forget to transform indexes to letters."
   ]
  },
  {
   "cell_type": "code",
   "execution_count": 23,
   "metadata": {
    "pixiedust": {
     "displayParams": {}
    }
   },
   "outputs": [
    {
     "name": "stdout",
     "output_type": "stream",
     "text": [
      "зожеми\n",
      "мерело\n",
      "захпуравший\n",
      "изыльтивам\n",
      "центрись\n",
      "бегеннский\n",
      "вымзических\n",
      "злуд\n",
      "зистерии\n",
      "вкураниям\n",
      "ольтика\n",
      "повое\n",
      "негрешенное\n",
      "прифего\n",
      "додогам\n",
      "корлисгивам\n",
      "обации\n",
      "коспелями\n",
      "плыкилсяках\n",
      "огрущивингедите\n"
     ]
    }
   ],
   "source": [
    "for i in range(20):\n",
    "    print(generate(model))"
   ]
  },
  {
   "cell_type": "markdown",
   "metadata": {},
   "source": [
    "**(2.10) 5 points** Write a batched version of the generation function. You should sample the following symbol only for the words that are not finished yet, so apply a boolean mask to trace active words."
   ]
  },
  {
   "cell_type": "code",
   "execution_count": 24,
   "metadata": {},
   "outputs": [],
   "source": [
    "def generate_batch(model, batch_size, max_length = 20, start_index=0, end_index=1, pad_index=2):\n",
    "    cur_state = torch.tensor([start_index for i in range(batch_size)]).reshape(batch_size, 1)\n",
    "    generated_words = []\n",
    "    generated = None\n",
    "    hidden = None\n",
    "    \n",
    "    for i in range(max_length):\n",
    "        preds, hidden = predict_on_batch(model, cur_state, hidden)\n",
    "        cur_state = torch.multinomial(preds.squeeze(), num_samples=1)\n",
    "        if i == 0:\n",
    "            generated = cur_state[None, :]\n",
    "        else:\n",
    "            generated = torch.cat((generated, cur_state[None, :]))\n",
    "    for i in range(batch_size):\n",
    "        cur_tensor = generated[:, i, 0]\n",
    "        end_pos = max_length\n",
    "        for j in range(max_length):\n",
    "            if cur_tensor[j] in [start_index, end_index, pad_index]:\n",
    "                end_pos = j\n",
    "                break\n",
    "        generated_words.append(''.join([vocab(val.item()) for val in cur_tensor[:end_pos]]))\n",
    "    return generated_words"
   ]
  },
  {
   "cell_type": "code",
   "execution_count": 25,
   "metadata": {
    "pixiedust": {
     "displayParams": {}
    },
    "scrolled": false
   },
   "outputs": [
    {
     "data": {
      "text/plain": [
       "['билихов',\n",
       " 'продретивает',\n",
       " 'досял',\n",
       " 'пилиальшем',\n",
       " 'варзов',\n",
       " 'восровший',\n",
       " 'слаками',\n",
       " 'растровогиала',\n",
       " 'азнисок',\n",
       " 'жаркаде',\n",
       " 'выдиксное',\n",
       " 'стерсная',\n",
       " 'выцезимное',\n",
       " 'вестодиктий',\n",
       " 'згиа',\n",
       " 'сужижая',\n",
       " 'ффурфестона',\n",
       " 'потертите',\n",
       " 'притапиями',\n",
       " 'выкомпуют']"
      ]
     },
     "execution_count": 25,
     "metadata": {},
     "output_type": "execute_result"
    }
   ],
   "source": [
    "generate_batch(model, 20)"
   ]
  },
  {
   "cell_type": "markdown",
   "metadata": {},
   "source": [
    "**(2.11) 5 points** Experiment with the type of RNN, number of layers, units and/or dropout to improve the perplexity of the model."
   ]
  },
  {
   "cell_type": "markdown",
   "metadata": {},
   "source": [
    "### Let's increase the dimensions of the model and add dropout"
   ]
  },
  {
   "cell_type": "code",
   "execution_count": 42,
   "metadata": {},
   "outputs": [],
   "source": [
    "class RNNLM(nn.Module):\n",
    "\n",
    "    def __init__(self, vocab_size, embeddings_dim, hidden_size1, hidden_size2, pad_symbol_id=2):\n",
    "        super(RNNLM, self).__init__()\n",
    "        self.hidden_size1 = hidden_size1\n",
    "        self.hidden_size2 = hidden_size2\n",
    "        self.embeddings_dim = embeddings_dim\n",
    "        self.pad_symbol_id = pad_symbol_id\n",
    "        self.vocab_size = vocab_size\n",
    "        \n",
    "        self.emb = nn.Embedding(vocab_size, embeddings_dim)\n",
    "        self.rnn = nn.GRU(embeddings_dim, hidden_size1, batch_first=True)\n",
    "        self.dropout1 = nn.Dropout(0.5)\n",
    "        self.fc1 = nn.Linear(hidden_size1, hidden_size2)\n",
    "        self.relu = nn.ReLU()\n",
    "        self.dropout2 = nn.Dropout(0.5)\n",
    "        self.fc2 = nn.Linear(hidden_size2, vocab_size)\n",
    "        \n",
    "    def forward(self, inputs, hidden=None):\n",
    "        if hidden is None:\n",
    "            hidden = self.init_hidden(inputs.shape)\n",
    "        out = self.emb(inputs)\n",
    "        out, h = self.rnn(out, hidden)\n",
    "        out = self.dropout1(out)\n",
    "        out = self.fc1(out)\n",
    "        out = self.relu(out)\n",
    "        out = self.dropout2(out)\n",
    "        out = self.fc2(out)\n",
    "        \n",
    "        # calculate loss without paddings\n",
    "        mask = (inputs == self.pad_symbol_id)\n",
    "        out[mask] = torch.zeros(self.vocab_size)\n",
    "        out[mask][:, self.pad_symbol_id] = 1\n",
    "        \n",
    "        return (out, h)\n",
    "    \n",
    "    def init_hidden(self, inputs_shape):\n",
    "        return torch.zeros(1, inputs_shape[0], self.embeddings_dim)"
   ]
  },
  {
   "cell_type": "code",
   "execution_count": 44,
   "metadata": {},
   "outputs": [],
   "source": [
    "num_epochs=50\n",
    "lr = 1e-3\n",
    "model = RNNLM(len(vocab), 30, 30, 50)\n",
    "loss = nn.CrossEntropyLoss()\n",
    "optimizer = optim.Adam(model.parameters(), lr)\n",
    "train_dataloader = DataLoader(train_dataset, batch_size=5, collate_fn=Padder(dim=0, pad_symbol=vocab(\"PAD\")))\n",
    "val_dataloader = DataLoader(dev_dataset, batch_size=5, collate_fn=Padder(dim=0, pad_symbol=vocab(\"PAD\")))"
   ]
  },
  {
   "cell_type": "code",
   "execution_count": 46,
   "metadata": {},
   "outputs": [],
   "source": [
    "train_loss = []\n",
    "val_loss = []\n",
    "\n",
    "for e in range(num_epochs):\n",
    "    for idx, (x, y) in enumerate(train_dataloader):\n",
    "        train_loss.append((idx + e * len(train_dataloader), train_on_batch(model, loss, x, y, optimizer)))\n",
    "    for idx, (x, y) in enumerate(val_dataloader):\n",
    "        model.eval()\n",
    "        val_loss.append((idx * 10.016304347826088 + e * len(train_dataloader), \n",
    "                         validate_on_batch(model, loss, x, y)))"
   ]
  },
  {
   "cell_type": "code",
   "execution_count": 47,
   "metadata": {},
   "outputs": [
    {
     "data": {
      "image/png": "[encoded data removed]",
      "text/plain": [
       "<Figure size 432x288 with 1 Axes>"
      ]
     },
     "metadata": {
      "needs_background": "light"
     },
     "output_type": "display_data"
    }
   ],
   "source": [
    "plot_loss(train_loss, val_loss)"
   ]
  },
  {
   "cell_type": "code",
   "execution_count": 49,
   "metadata": {},
   "outputs": [
    {
     "data": {
      "text/plain": [
       "['хадорбым',\n",
       " 'зетитеслял',\n",
       " 'треждил',\n",
       " 'зытавачивасе',\n",
       " 'снежешь',\n",
       " 'жуломнержссом',\n",
       " 'дреар',\n",
       " 'вьенрее',\n",
       " 'очердом',\n",
       " 'нокакоское',\n",
       " 'илило-тложимом',\n",
       " 'числалесхих',\n",
       " 'зелаликох',\n",
       " 'вгогосьсь',\n",
       " 'ёбный',\n",
       " 'пре',\n",
       " 'сеслокую',\n",
       " 'тысрыс',\n",
       " 'мылкийся',\n",
       " 'вогнетавив']"
      ]
     },
     "execution_count": 49,
     "metadata": {},
     "output_type": "execute_result"
    }
   ],
   "source": [
    "generate_batch(model, 20)"
   ]
  }
 ],
 "metadata": {
  "kernelspec": {
   "display_name": "Python 3",
   "language": "python",
   "name": "python3"
  },
  "language_info": {
   "codemirror_mode": {
    "name": "ipython",
    "version": 3
   },
   "file_extension": ".py",
   "mimetype": "text/x-python",
   "name": "python",
   "nbconvert_exporter": "python",
   "pygments_lexer": "ipython3",
   "version": "3.7.4"
  }
 },
 "nbformat": 4,
 "nbformat_minor": 4
}
